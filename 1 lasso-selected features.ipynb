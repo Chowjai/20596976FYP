{
 "cells": [
  {
   "cell_type": "code",
   "execution_count": 34,
   "metadata": {},
   "outputs": [],
   "source": [
    "#import libraries.\n",
    "import numpy as np\n",
    "import pandas as pd\n",
    "import seaborn as sns\n",
    "import matplotlib.pyplot as plt\n",
    "%matplotlib inline\n",
    "\n",
    "#importing GBM-TP dataset\n",
    "df= pd.read_csv(\"GBM features.csv\")# header=None, skiprows=1)\n",
    "#df = df.rename(columns=df.iloc[0]).drop(df.index[0])\n",
    "\n",
    "#dropping last 7 rows\n",
    "df = df[:-7]\n",
    "\n",
    "col_list = list()\n",
    "for col in df.columns:\n",
    "    col_list.append(col)\n",
    "\n",
    "CLIs_col_list = col_list[0:13]\n",
    "CLIs_col_list\n",
    "\n",
    "CLIs_df = df.filter(CLIs_col_list, axis=1)\n",
    "\n",
    "#Processed features:\n",
    "key = ['tcga_participant_barcode']\n",
    "\n",
    "numerical_CLIs_list = [\n",
    "    'CLI_years_to_birth', #age\n",
    "    'CLI_days_to_death',  #changed to Overall_Survival\n",
    "    'CLI_date_of_initial_pathologic_diagnosis', #seemes useless, unless we want to generalise that \"technological advancement prolongs life\"?\n",
    "    'CLI_karnofsky_performance_score' #range from 0 to 100. A higher score means the patient is better able to carry out daily activities.\n",
    "]\n",
    "\n",
    "categorical_CLIs_list = [\n",
    "    'CLI_gender',\n",
    "    'CLI_radiation_therapy',    #better convert yes/no to 0/1\n",
    "    'CLI_histological_type',    #3 forms, ['untreated primary (de novo) gbm' 'treated primary gbm', 'glioblastoma multiforme (gbm)']\n",
    "    'CLI_race',             #4 forms, ['white' 'black or african american' nan 'asian']. \n",
    "    'CLI_ethnicity'         #3 forms, [nan 'hispanic or latino' 'not hispanic or latino'].\n",
    "]\n",
    "\n",
    "#Modify df according to processed features:\n",
    "processed_CLIs_df = CLIs_df.filter(key + numerical_CLIs_list + categorical_CLIs_list, axis=1)\n",
    "processed_CLIs_df = processed_CLIs_df[processed_CLIs_df['CLI_days_to_death'].notnull()]\n",
    "processed_CLIs_df.rename(columns={'CLI_days_to_death': 'Overall_Survival'}, inplace=True)\n",
    "processed_CLIs_df\n",
    "\n",
    "#one-hot encoding\n",
    "#for columns which null values exist(all columns except gender), drop_first=false since the categories are not collectively exhausive\n",
    "# -->0 in all categories implies NaN\n",
    "\n",
    "genderDummy = pd.get_dummies(processed_CLIs_df['CLI_gender'],drop_first=True,prefix='CLI_gender')\n",
    "radiationDummy = pd.get_dummies(processed_CLIs_df['CLI_radiation_therapy'],drop_first=False,prefix='CLI_radiation_therapy')\n",
    "histologicalDummy = pd.get_dummies(processed_CLIs_df['CLI_histological_type'],drop_first=False,prefix='CLI_histological_type')\n",
    "raceDummy = pd.get_dummies(processed_CLIs_df['CLI_race'],drop_first=False,prefix='CLI_race')\n",
    "ethnicityDummy = pd.get_dummies(processed_CLIs_df['CLI_ethnicity'],drop_first=False,prefix='CLI_ethnicity')\n",
    "\n",
    "processed_CLIs_df = processed_CLIs_df.drop(columns=['CLI_gender','CLI_radiation_therapy','CLI_histological_type','CLI_race','CLI_ethnicity'])\n",
    "processed_CLIs_df = pd.concat([processed_CLIs_df,genderDummy,radiationDummy,histologicalDummy,raceDummy,ethnicityDummy],axis=1,sort=True)\n",
    "\n",
    "#replace NaN by median CLI_karnofsky_performance_score(80)\n",
    "processed_CLIs_df['CLI_karnofsky_performance_score'].median()\n",
    "\n",
    "#replace NaN by median CLI_karnofsky_performance_score(80)\n",
    "processed_CLIs_df['CLI_karnofsky_performance_score'].fillna(processed_CLIs_df['CLI_karnofsky_performance_score'].median(), inplace=True)\n",
    "\n",
    "# define the datafram for feature and target\n",
    "X = processed_CLIs_df.drop(['tcga_participant_barcode', 'Overall_Survival'], axis=1)\n",
    "y = processed_CLIs_df[['Overall_Survival']]\n"
   ]
  },
  {
   "cell_type": "code",
   "execution_count": 35,
   "metadata": {},
   "outputs": [
    {
     "data": {
      "text/html": [
       "<div>\n",
       "<style scoped>\n",
       "    .dataframe tbody tr th:only-of-type {\n",
       "        vertical-align: middle;\n",
       "    }\n",
       "\n",
       "    .dataframe tbody tr th {\n",
       "        vertical-align: top;\n",
       "    }\n",
       "\n",
       "    .dataframe thead th {\n",
       "        text-align: right;\n",
       "    }\n",
       "</style>\n",
       "<table border=\"1\" class=\"dataframe\">\n",
       "  <thead>\n",
       "    <tr style=\"text-align: right;\">\n",
       "      <th></th>\n",
       "      <th>Overall_Survival</th>\n",
       "    </tr>\n",
       "  </thead>\n",
       "  <tbody>\n",
       "    <tr>\n",
       "      <th>count</th>\n",
       "      <td>490.000000</td>\n",
       "    </tr>\n",
       "    <tr>\n",
       "      <th>mean</th>\n",
       "      <td>504.500000</td>\n",
       "    </tr>\n",
       "    <tr>\n",
       "      <th>std</th>\n",
       "      <td>538.727567</td>\n",
       "    </tr>\n",
       "    <tr>\n",
       "      <th>min</th>\n",
       "      <td>3.000000</td>\n",
       "    </tr>\n",
       "    <tr>\n",
       "      <th>25%</th>\n",
       "      <td>170.500000</td>\n",
       "    </tr>\n",
       "    <tr>\n",
       "      <th>50%</th>\n",
       "      <td>382.000000</td>\n",
       "    </tr>\n",
       "    <tr>\n",
       "      <th>75%</th>\n",
       "      <td>609.250000</td>\n",
       "    </tr>\n",
       "    <tr>\n",
       "      <th>max</th>\n",
       "      <td>3881.000000</td>\n",
       "    </tr>\n",
       "  </tbody>\n",
       "</table>\n",
       "</div>"
      ],
      "text/plain": [
       "       Overall_Survival\n",
       "count        490.000000\n",
       "mean         504.500000\n",
       "std          538.727567\n",
       "min            3.000000\n",
       "25%          170.500000\n",
       "50%          382.000000\n",
       "75%          609.250000\n",
       "max         3881.000000"
      ]
     },
     "execution_count": 35,
     "metadata": {},
     "output_type": "execute_result"
    }
   ],
   "source": [
    "y.describe()"
   ]
  },
  {
   "attachments": {},
   "cell_type": "markdown",
   "metadata": {},
   "source": [
    "# NN model\n"
   ]
  },
  {
   "cell_type": "code",
   "execution_count": 36,
   "metadata": {},
   "outputs": [],
   "source": [
    "#Linear Regression\n",
    "\n",
    "from sklearn import preprocessing\n",
    "#normalize attributes for more even coefficients\n",
    "zscore_scaler = preprocessing.StandardScaler().fit(X)\n",
    "X = pd.DataFrame(zscore_scaler.transform(X), columns = X.columns)\n",
    "\n",
    "from sklearn.model_selection import train_test_split\n",
    "X_train, X_test, y_train, y_test = train_test_split(X, y, test_size=0.2,random_state =42)\n",
    "\n",
    "import keras as K\n",
    "import tensorflow as tf\n",
    "from keras.layers import Dense, Activation\n",
    "from keras.models import Sequential\n",
    "import matplotlib.pyplot as plt\n",
    "\n",
    "# Feature Scaling\n",
    "from sklearn.preprocessing import StandardScaler"
   ]
  },
  {
   "cell_type": "code",
   "execution_count": 37,
   "metadata": {},
   "outputs": [
    {
     "name": "stdout",
     "output_type": "stream",
     "text": [
      "Epoch 1/200\n",
      "40/40 [==============================] - 1s 5ms/step - loss: 555058.5625 - val_loss: 502120.6875\n",
      "Epoch 2/200\n",
      "40/40 [==============================] - 0s 2ms/step - loss: 554624.0625 - val_loss: 501752.0938\n",
      "Epoch 3/200\n",
      "40/40 [==============================] - 0s 2ms/step - loss: 554167.9375 - val_loss: 501288.5625\n",
      "Epoch 4/200\n",
      "40/40 [==============================] - 0s 2ms/step - loss: 553513.8125 - val_loss: 500558.8438\n",
      "Epoch 5/200\n",
      "40/40 [==============================] - 0s 2ms/step - loss: 552394.5625 - val_loss: 499370.4062\n",
      "Epoch 6/200\n",
      "40/40 [==============================] - 0s 2ms/step - loss: 550487.2500 - val_loss: 497178.7500\n",
      "Epoch 7/200\n",
      "40/40 [==============================] - 0s 2ms/step - loss: 547199.5000 - val_loss: 493637.3750\n",
      "Epoch 8/200\n",
      "40/40 [==============================] - 0s 4ms/step - loss: 541977.7500 - val_loss: 488069.1562\n",
      "Epoch 9/200\n",
      "40/40 [==============================] - 0s 2ms/step - loss: 534158.8750 - val_loss: 479909.3125\n",
      "Epoch 10/200\n",
      "40/40 [==============================] - 0s 3ms/step - loss: 522914.3125 - val_loss: 469459.3125\n",
      "Epoch 11/200\n",
      "40/40 [==============================] - 0s 2ms/step - loss: 508645.5938 - val_loss: 456076.1250\n",
      "Epoch 12/200\n",
      "40/40 [==============================] - 0s 2ms/step - loss: 492528.6875 - val_loss: 441459.3438\n",
      "Epoch 13/200\n",
      "40/40 [==============================] - 0s 2ms/step - loss: 473706.5312 - val_loss: 423863.9062\n",
      "Epoch 14/200\n",
      "40/40 [==============================] - 0s 2ms/step - loss: 451885.6250 - val_loss: 405681.3438\n",
      "Epoch 15/200\n",
      "40/40 [==============================] - 0s 2ms/step - loss: 428884.5312 - val_loss: 386096.9375\n",
      "Epoch 16/200\n",
      "40/40 [==============================] - 0s 2ms/step - loss: 404450.7812 - val_loss: 365966.2812\n",
      "Epoch 17/200\n",
      "40/40 [==============================] - 0s 2ms/step - loss: 379169.3750 - val_loss: 346625.5938\n",
      "Epoch 18/200\n",
      "40/40 [==============================] - 0s 2ms/step - loss: 353811.2188 - val_loss: 328195.3125\n",
      "Epoch 19/200\n",
      "40/40 [==============================] - 0s 2ms/step - loss: 329851.5312 - val_loss: 311234.9062\n",
      "Epoch 20/200\n",
      "40/40 [==============================] - 0s 2ms/step - loss: 309549.1562 - val_loss: 297597.7812\n",
      "Epoch 21/200\n",
      "40/40 [==============================] - 0s 2ms/step - loss: 291535.2812 - val_loss: 287166.9062\n",
      "Epoch 22/200\n",
      "40/40 [==============================] - 0s 3ms/step - loss: 277169.0938 - val_loss: 278936.2812\n",
      "Epoch 23/200\n",
      "40/40 [==============================] - 0s 2ms/step - loss: 265289.3750 - val_loss: 273186.9375\n",
      "Epoch 24/200\n",
      "40/40 [==============================] - 0s 2ms/step - loss: 255893.6250 - val_loss: 269415.5312\n",
      "Epoch 25/200\n",
      "40/40 [==============================] - 0s 2ms/step - loss: 248742.1875 - val_loss: 266933.2500\n",
      "Epoch 26/200\n",
      "40/40 [==============================] - 0s 2ms/step - loss: 242716.7188 - val_loss: 265380.5625\n",
      "Epoch 27/200\n",
      "40/40 [==============================] - 0s 4ms/step - loss: 238149.0156 - val_loss: 264450.5000\n",
      "Epoch 28/200\n",
      "40/40 [==============================] - 0s 3ms/step - loss: 235270.8125 - val_loss: 264465.8750\n",
      "Epoch 29/200\n",
      "40/40 [==============================] - 0s 2ms/step - loss: 233141.7969 - val_loss: 264218.8438\n",
      "Epoch 30/200\n",
      "40/40 [==============================] - 0s 2ms/step - loss: 231760.8750 - val_loss: 264425.5000\n",
      "Epoch 31/200\n",
      "40/40 [==============================] - 0s 2ms/step - loss: 230507.1875 - val_loss: 264323.0312\n",
      "Epoch 32/200\n",
      "40/40 [==============================] - 0s 2ms/step - loss: 229430.1094 - val_loss: 264487.5625\n",
      "Epoch 33/200\n",
      "40/40 [==============================] - 0s 2ms/step - loss: 228272.4844 - val_loss: 264777.7500\n",
      "Epoch 34/200\n",
      "40/40 [==============================] - 0s 2ms/step - loss: 227721.0625 - val_loss: 265069.0312\n",
      "Epoch 35/200\n",
      "40/40 [==============================] - 0s 2ms/step - loss: 226862.3906 - val_loss: 264885.6875\n",
      "Epoch 36/200\n",
      "40/40 [==============================] - 0s 2ms/step - loss: 226222.5312 - val_loss: 264625.7188\n",
      "Epoch 37/200\n",
      "40/40 [==============================] - 0s 2ms/step - loss: 225646.3281 - val_loss: 264341.0938\n",
      "Epoch 38/200\n",
      "40/40 [==============================] - 0s 2ms/step - loss: 225251.0000 - val_loss: 264805.9062\n",
      "Epoch 39/200\n",
      "40/40 [==============================] - 0s 2ms/step - loss: 224637.6250 - val_loss: 264334.5625\n",
      "Epoch 40/200\n",
      "40/40 [==============================] - 0s 2ms/step - loss: 224252.3281 - val_loss: 263989.5000\n",
      "Epoch 41/200\n",
      "40/40 [==============================] - 0s 2ms/step - loss: 223901.1094 - val_loss: 264267.8438\n",
      "Epoch 42/200\n",
      "40/40 [==============================] - 0s 2ms/step - loss: 223328.1406 - val_loss: 263835.6875\n",
      "Epoch 43/200\n",
      "40/40 [==============================] - 0s 2ms/step - loss: 223110.7188 - val_loss: 263496.7500\n",
      "Epoch 44/200\n",
      "40/40 [==============================] - 0s 2ms/step - loss: 222656.3281 - val_loss: 263357.0625\n",
      "Epoch 45/200\n",
      "40/40 [==============================] - 0s 2ms/step - loss: 222254.2812 - val_loss: 263153.6562\n",
      "Epoch 46/200\n",
      "40/40 [==============================] - 0s 2ms/step - loss: 221763.1250 - val_loss: 263810.5312\n",
      "Epoch 47/200\n",
      "40/40 [==============================] - 0s 2ms/step - loss: 221860.3438 - val_loss: 264299.8438\n",
      "Epoch 48/200\n",
      "40/40 [==============================] - 0s 2ms/step - loss: 221305.4062 - val_loss: 263811.2188\n",
      "Epoch 49/200\n",
      "40/40 [==============================] - 0s 2ms/step - loss: 221471.7812 - val_loss: 262619.6875\n",
      "Epoch 50/200\n",
      "40/40 [==============================] - 0s 2ms/step - loss: 220710.1875 - val_loss: 262752.6250\n",
      "Epoch 51/200\n",
      "40/40 [==============================] - 0s 2ms/step - loss: 220620.7969 - val_loss: 261755.4688\n",
      "Epoch 52/200\n",
      "40/40 [==============================] - 0s 2ms/step - loss: 220098.4844 - val_loss: 262224.2188\n",
      "Epoch 53/200\n",
      "40/40 [==============================] - 0s 4ms/step - loss: 219882.4062 - val_loss: 263280.3438\n",
      "Epoch 54/200\n",
      "40/40 [==============================] - 0s 2ms/step - loss: 219625.3906 - val_loss: 263044.9062\n",
      "Epoch 55/200\n",
      "40/40 [==============================] - 0s 2ms/step - loss: 219425.1875 - val_loss: 263350.0938\n",
      "Epoch 56/200\n",
      "40/40 [==============================] - 0s 2ms/step - loss: 219236.8594 - val_loss: 262738.1562\n",
      "Epoch 57/200\n",
      "40/40 [==============================] - 0s 2ms/step - loss: 218849.0781 - val_loss: 262614.6562\n",
      "Epoch 58/200\n",
      "40/40 [==============================] - 0s 2ms/step - loss: 218737.3750 - val_loss: 262088.0469\n",
      "Epoch 59/200\n",
      "40/40 [==============================] - 0s 2ms/step - loss: 218402.1562 - val_loss: 261938.2812\n",
      "Epoch 60/200\n",
      "40/40 [==============================] - 0s 2ms/step - loss: 218259.8750 - val_loss: 262183.7500\n",
      "Epoch 61/200\n",
      "40/40 [==============================] - 0s 2ms/step - loss: 218052.7500 - val_loss: 261608.7344\n",
      "Epoch 62/200\n",
      "40/40 [==============================] - 0s 2ms/step - loss: 217782.7500 - val_loss: 261895.5156\n",
      "Epoch 63/200\n",
      "40/40 [==============================] - 0s 2ms/step - loss: 217669.5938 - val_loss: 261226.5312\n",
      "Epoch 64/200\n",
      "40/40 [==============================] - 0s 2ms/step - loss: 217577.6250 - val_loss: 262154.9688\n",
      "Epoch 65/200\n",
      "40/40 [==============================] - 0s 2ms/step - loss: 217125.8125 - val_loss: 261216.8125\n",
      "Epoch 66/200\n",
      "40/40 [==============================] - 0s 2ms/step - loss: 217146.7500 - val_loss: 260659.1875\n",
      "Epoch 67/200\n",
      "40/40 [==============================] - 0s 2ms/step - loss: 216908.6562 - val_loss: 260820.8906\n",
      "Epoch 68/200\n",
      "40/40 [==============================] - 0s 2ms/step - loss: 216870.5312 - val_loss: 260568.8125\n",
      "Epoch 69/200\n",
      "40/40 [==============================] - 0s 2ms/step - loss: 216586.7500 - val_loss: 260262.1562\n",
      "Epoch 70/200\n",
      "40/40 [==============================] - 0s 2ms/step - loss: 216386.0156 - val_loss: 260233.9375\n",
      "Epoch 71/200\n",
      "40/40 [==============================] - 0s 2ms/step - loss: 216257.4688 - val_loss: 260821.1094\n",
      "Epoch 72/200\n",
      "40/40 [==============================] - 0s 2ms/step - loss: 216292.4844 - val_loss: 260952.6875\n",
      "Epoch 73/200\n",
      "40/40 [==============================] - 0s 4ms/step - loss: 216120.9219 - val_loss: 261475.2500\n",
      "Epoch 74/200\n",
      "40/40 [==============================] - 0s 2ms/step - loss: 215963.9531 - val_loss: 260660.8594\n",
      "Epoch 75/200\n",
      "40/40 [==============================] - 0s 2ms/step - loss: 215707.0625 - val_loss: 261089.1094\n",
      "Epoch 76/200\n",
      "40/40 [==============================] - 0s 2ms/step - loss: 215577.2188 - val_loss: 260516.2031\n",
      "Epoch 77/200\n",
      "40/40 [==============================] - 0s 2ms/step - loss: 215483.1406 - val_loss: 260237.7500\n",
      "Epoch 78/200\n",
      "40/40 [==============================] - 0s 2ms/step - loss: 215304.9844 - val_loss: 260305.1875\n",
      "Epoch 79/200\n",
      "40/40 [==============================] - 0s 2ms/step - loss: 215224.6719 - val_loss: 260219.2656\n",
      "Epoch 80/200\n",
      "40/40 [==============================] - 0s 2ms/step - loss: 215092.6094 - val_loss: 260912.4844\n",
      "Epoch 81/200\n",
      "40/40 [==============================] - 0s 2ms/step - loss: 215272.6250 - val_loss: 260955.4688\n",
      "Epoch 82/200\n",
      "40/40 [==============================] - 0s 2ms/step - loss: 215117.2812 - val_loss: 260502.1562\n",
      "Epoch 83/200\n",
      "40/40 [==============================] - 0s 2ms/step - loss: 215004.6250 - val_loss: 260391.4531\n",
      "Epoch 84/200\n",
      "40/40 [==============================] - 0s 2ms/step - loss: 214656.3750 - val_loss: 259556.5312\n",
      "Epoch 85/200\n",
      "40/40 [==============================] - 0s 2ms/step - loss: 214524.2656 - val_loss: 259498.1875\n",
      "Epoch 86/200\n",
      "40/40 [==============================] - 0s 2ms/step - loss: 214423.5938 - val_loss: 259535.7812\n",
      "Epoch 87/200\n",
      "40/40 [==============================] - 0s 2ms/step - loss: 214348.1875 - val_loss: 259488.1250\n",
      "Epoch 88/200\n",
      "40/40 [==============================] - 0s 2ms/step - loss: 214184.6250 - val_loss: 259664.8438\n",
      "Epoch 89/200\n",
      "40/40 [==============================] - 0s 2ms/step - loss: 214062.4062 - val_loss: 259786.0469\n",
      "Epoch 90/200\n",
      "40/40 [==============================] - 0s 2ms/step - loss: 214116.3438 - val_loss: 259844.0469\n",
      "Epoch 91/200\n",
      "40/40 [==============================] - 0s 2ms/step - loss: 213942.4219 - val_loss: 260030.3750\n",
      "Epoch 92/200\n",
      "40/40 [==============================] - 0s 2ms/step - loss: 213793.4688 - val_loss: 260146.3125\n",
      "Epoch 93/200\n",
      "40/40 [==============================] - 0s 2ms/step - loss: 213753.3281 - val_loss: 260159.7969\n",
      "Epoch 94/200\n",
      "40/40 [==============================] - 0s 2ms/step - loss: 213539.8438 - val_loss: 259879.9219\n",
      "Epoch 95/200\n",
      "40/40 [==============================] - 0s 2ms/step - loss: 213583.4219 - val_loss: 259742.3281\n",
      "Epoch 96/200\n",
      "40/40 [==============================] - 0s 2ms/step - loss: 213408.6875 - val_loss: 259802.5781\n",
      "Epoch 97/200\n",
      "40/40 [==============================] - 0s 2ms/step - loss: 213220.1406 - val_loss: 260863.3906\n",
      "Epoch 98/200\n",
      "40/40 [==============================] - 0s 2ms/step - loss: 213392.1562 - val_loss: 261783.7188\n",
      "Epoch 99/200\n",
      "40/40 [==============================] - 0s 2ms/step - loss: 213286.6562 - val_loss: 261248.4062\n",
      "Epoch 100/200\n",
      "40/40 [==============================] - 0s 4ms/step - loss: 213590.4219 - val_loss: 259788.3750\n",
      "Epoch 101/200\n",
      "40/40 [==============================] - 0s 2ms/step - loss: 212860.3750 - val_loss: 260234.3750\n",
      "Epoch 102/200\n",
      "40/40 [==============================] - 0s 2ms/step - loss: 212924.6094 - val_loss: 261334.4688\n",
      "Epoch 103/200\n",
      "40/40 [==============================] - 0s 2ms/step - loss: 212911.0625 - val_loss: 261081.9375\n",
      "Epoch 104/200\n",
      "40/40 [==============================] - 0s 2ms/step - loss: 212841.3906 - val_loss: 261232.6094\n",
      "Epoch 105/200\n",
      "40/40 [==============================] - 0s 2ms/step - loss: 212770.2656 - val_loss: 261205.4844\n",
      "Epoch 106/200\n",
      "40/40 [==============================] - 0s 2ms/step - loss: 212355.8906 - val_loss: 261096.2812\n",
      "Epoch 107/200\n",
      "40/40 [==============================] - 0s 2ms/step - loss: 212417.5938 - val_loss: 261253.6875\n",
      "Epoch 108/200\n",
      "40/40 [==============================] - 0s 2ms/step - loss: 212542.7344 - val_loss: 260397.0156\n",
      "Epoch 109/200\n",
      "40/40 [==============================] - 0s 2ms/step - loss: 212267.0000 - val_loss: 261022.6719\n",
      "Epoch 110/200\n",
      "40/40 [==============================] - 0s 2ms/step - loss: 212149.8594 - val_loss: 260838.3750\n",
      "Epoch 111/200\n",
      "40/40 [==============================] - 0s 2ms/step - loss: 212051.2656 - val_loss: 260558.8594\n",
      "Epoch 112/200\n",
      "40/40 [==============================] - 0s 2ms/step - loss: 212018.7344 - val_loss: 260958.9844\n",
      "Epoch 113/200\n",
      "40/40 [==============================] - 0s 2ms/step - loss: 211900.4531 - val_loss: 260333.1250\n",
      "Epoch 114/200\n",
      "40/40 [==============================] - 0s 2ms/step - loss: 211967.2656 - val_loss: 259872.7344\n",
      "Epoch 115/200\n",
      "40/40 [==============================] - 0s 2ms/step - loss: 211763.2188 - val_loss: 260271.2188\n",
      "Epoch 116/200\n",
      "40/40 [==============================] - 0s 2ms/step - loss: 211781.2656 - val_loss: 260456.6250\n",
      "Epoch 117/200\n",
      "40/40 [==============================] - 0s 2ms/step - loss: 211831.2031 - val_loss: 260542.3281\n",
      "Epoch 118/200\n",
      "40/40 [==============================] - 0s 2ms/step - loss: 211627.4219 - val_loss: 260116.8594\n",
      "Epoch 119/200\n",
      "40/40 [==============================] - 0s 2ms/step - loss: 211666.2500 - val_loss: 260628.8125\n",
      "Epoch 120/200\n",
      "40/40 [==============================] - 0s 2ms/step - loss: 211586.6719 - val_loss: 259767.2031\n",
      "Epoch 121/200\n",
      "40/40 [==============================] - 0s 2ms/step - loss: 211378.5156 - val_loss: 259746.8594\n",
      "Epoch 122/200\n",
      "40/40 [==============================] - 0s 2ms/step - loss: 211380.1875 - val_loss: 260061.0000\n",
      "Epoch 123/200\n",
      "40/40 [==============================] - 0s 4ms/step - loss: 211365.2188 - val_loss: 259996.1875\n",
      "Epoch 124/200\n",
      "40/40 [==============================] - 0s 2ms/step - loss: 211288.5781 - val_loss: 259875.2188\n",
      "Epoch 125/200\n",
      "40/40 [==============================] - 0s 2ms/step - loss: 211228.0000 - val_loss: 260275.1562\n",
      "Epoch 126/200\n",
      "40/40 [==============================] - 0s 2ms/step - loss: 211060.3906 - val_loss: 260028.8438\n",
      "Epoch 127/200\n",
      "40/40 [==============================] - 0s 2ms/step - loss: 211038.0469 - val_loss: 260535.0156\n",
      "Epoch 128/200\n",
      "40/40 [==============================] - 0s 2ms/step - loss: 211058.8438 - val_loss: 260675.5781\n",
      "Epoch 129/200\n",
      "40/40 [==============================] - 0s 2ms/step - loss: 211011.4219 - val_loss: 260205.0781\n",
      "Epoch 130/200\n",
      "40/40 [==============================] - 0s 2ms/step - loss: 210817.5156 - val_loss: 260307.7188\n",
      "Epoch 131/200\n",
      "40/40 [==============================] - 0s 2ms/step - loss: 210900.5938 - val_loss: 260348.6562\n",
      "Epoch 132/200\n",
      "40/40 [==============================] - 0s 2ms/step - loss: 210750.3906 - val_loss: 260101.6719\n",
      "Epoch 133/200\n",
      "40/40 [==============================] - 0s 2ms/step - loss: 210872.0781 - val_loss: 260712.5312\n",
      "Epoch 134/200\n",
      "40/40 [==============================] - 0s 2ms/step - loss: 210625.6875 - val_loss: 260716.9844\n",
      "Epoch 135/200\n",
      "40/40 [==============================] - 0s 2ms/step - loss: 210637.1406 - val_loss: 260688.0781\n",
      "Epoch 136/200\n",
      "40/40 [==============================] - 0s 2ms/step - loss: 210536.6719 - val_loss: 260960.9844\n",
      "Epoch 137/200\n",
      "40/40 [==============================] - 0s 2ms/step - loss: 210928.9375 - val_loss: 261110.8594\n",
      "Epoch 138/200\n",
      "40/40 [==============================] - 0s 2ms/step - loss: 210586.4062 - val_loss: 260296.1562\n",
      "Epoch 139/200\n",
      "40/40 [==============================] - 0s 2ms/step - loss: 210369.1250 - val_loss: 260541.0000\n",
      "Epoch 140/200\n",
      "40/40 [==============================] - 0s 2ms/step - loss: 210373.1406 - val_loss: 260554.6094\n",
      "Epoch 141/200\n",
      "40/40 [==============================] - 0s 2ms/step - loss: 210352.4844 - val_loss: 260684.0781\n",
      "Epoch 142/200\n",
      "40/40 [==============================] - 0s 2ms/step - loss: 210203.5312 - val_loss: 260677.2188\n",
      "Epoch 143/200\n",
      "40/40 [==============================] - 0s 3ms/step - loss: 210395.0781 - val_loss: 261087.3438\n",
      "Epoch 144/200\n",
      "40/40 [==============================] - 0s 2ms/step - loss: 210137.8438 - val_loss: 260421.7500\n",
      "Epoch 145/200\n",
      "40/40 [==============================] - 0s 2ms/step - loss: 210182.5781 - val_loss: 260508.8906\n",
      "Epoch 146/200\n",
      "40/40 [==============================] - 0s 2ms/step - loss: 210075.9375 - val_loss: 260131.7812\n",
      "Epoch 147/200\n",
      "40/40 [==============================] - 0s 2ms/step - loss: 210000.7188 - val_loss: 260231.1406\n",
      "Epoch 148/200\n",
      "40/40 [==============================] - 0s 2ms/step - loss: 209906.4688 - val_loss: 260801.8750\n",
      "Epoch 149/200\n",
      "40/40 [==============================] - 0s 2ms/step - loss: 209991.8906 - val_loss: 261029.6250\n",
      "Epoch 150/200\n",
      "40/40 [==============================] - 0s 2ms/step - loss: 209971.4062 - val_loss: 260966.8125\n",
      "Epoch 151/200\n",
      "40/40 [==============================] - 0s 2ms/step - loss: 209753.3438 - val_loss: 260688.7500\n",
      "Epoch 152/200\n",
      "40/40 [==============================] - 0s 2ms/step - loss: 209780.6875 - val_loss: 260438.9844\n",
      "Epoch 153/200\n",
      "40/40 [==============================] - 0s 2ms/step - loss: 209655.7188 - val_loss: 260659.6562\n",
      "Epoch 154/200\n",
      "40/40 [==============================] - 0s 2ms/step - loss: 209763.6875 - val_loss: 260622.7344\n",
      "Epoch 155/200\n",
      "40/40 [==============================] - 0s 2ms/step - loss: 209719.2656 - val_loss: 261528.9531\n",
      "Epoch 156/200\n",
      "40/40 [==============================] - 0s 2ms/step - loss: 209560.3438 - val_loss: 261355.1406\n",
      "Epoch 157/200\n",
      "40/40 [==============================] - 0s 2ms/step - loss: 209568.7188 - val_loss: 261276.2500\n",
      "Epoch 158/200\n",
      "40/40 [==============================] - 0s 2ms/step - loss: 209593.1094 - val_loss: 261003.0156\n",
      "Epoch 159/200\n",
      "40/40 [==============================] - 0s 2ms/step - loss: 209469.4219 - val_loss: 261263.2656\n",
      "Epoch 160/200\n",
      "40/40 [==============================] - 0s 2ms/step - loss: 209298.2656 - val_loss: 261801.8750\n",
      "Epoch 161/200\n",
      "40/40 [==============================] - 0s 2ms/step - loss: 209454.2031 - val_loss: 261673.7969\n",
      "Epoch 162/200\n",
      "40/40 [==============================] - 0s 2ms/step - loss: 209498.3125 - val_loss: 260831.0625\n",
      "Epoch 163/200\n",
      "40/40 [==============================] - 0s 2ms/step - loss: 209264.8125 - val_loss: 262479.5312\n",
      "Epoch 164/200\n",
      "40/40 [==============================] - 0s 2ms/step - loss: 209280.0781 - val_loss: 262263.7188\n",
      "Epoch 165/200\n",
      "40/40 [==============================] - 0s 4ms/step - loss: 209433.3750 - val_loss: 262364.6562\n",
      "Epoch 166/200\n",
      "40/40 [==============================] - 0s 2ms/step - loss: 209120.9375 - val_loss: 261582.6094\n",
      "Epoch 167/200\n",
      "40/40 [==============================] - 0s 2ms/step - loss: 209078.5156 - val_loss: 261336.2031\n",
      "Epoch 168/200\n",
      "40/40 [==============================] - 0s 2ms/step - loss: 209052.1250 - val_loss: 260850.0156\n",
      "Epoch 169/200\n",
      "40/40 [==============================] - 0s 2ms/step - loss: 208980.7500 - val_loss: 261369.8750\n",
      "Epoch 170/200\n",
      "40/40 [==============================] - 0s 2ms/step - loss: 208961.1562 - val_loss: 261217.6094\n",
      "Epoch 171/200\n",
      "40/40 [==============================] - 0s 2ms/step - loss: 209099.1094 - val_loss: 261612.2188\n",
      "Epoch 172/200\n",
      "40/40 [==============================] - 0s 2ms/step - loss: 209052.4062 - val_loss: 261360.8125\n",
      "Epoch 173/200\n",
      "40/40 [==============================] - 0s 2ms/step - loss: 208853.1406 - val_loss: 261529.7969\n",
      "Epoch 174/200\n",
      "40/40 [==============================] - 0s 2ms/step - loss: 208869.3125 - val_loss: 261048.3281\n",
      "Epoch 175/200\n",
      "40/40 [==============================] - 0s 2ms/step - loss: 208757.1875 - val_loss: 261201.5156\n",
      "Epoch 176/200\n",
      "40/40 [==============================] - 0s 2ms/step - loss: 208738.6250 - val_loss: 261034.6875\n",
      "Epoch 177/200\n",
      "40/40 [==============================] - 0s 2ms/step - loss: 208684.0156 - val_loss: 260662.2812\n",
      "Epoch 178/200\n",
      "40/40 [==============================] - 0s 2ms/step - loss: 208590.2812 - val_loss: 260817.6250\n",
      "Epoch 179/200\n",
      "40/40 [==============================] - 0s 2ms/step - loss: 208607.3906 - val_loss: 260687.1406\n",
      "Epoch 180/200\n",
      "40/40 [==============================] - 0s 2ms/step - loss: 208469.8594 - val_loss: 261218.4844\n",
      "Epoch 181/200\n",
      "40/40 [==============================] - 0s 2ms/step - loss: 208524.6094 - val_loss: 261184.5938\n",
      "Epoch 182/200\n",
      "40/40 [==============================] - 0s 2ms/step - loss: 208384.1094 - val_loss: 261415.9219\n",
      "Epoch 183/200\n",
      "40/40 [==============================] - 0s 2ms/step - loss: 208472.2500 - val_loss: 261172.1562\n",
      "Epoch 184/200\n",
      "40/40 [==============================] - 0s 2ms/step - loss: 208493.6875 - val_loss: 260946.6094\n",
      "Epoch 185/200\n",
      "40/40 [==============================] - 0s 2ms/step - loss: 208337.3281 - val_loss: 260911.4688\n",
      "Epoch 186/200\n",
      "40/40 [==============================] - 0s 3ms/step - loss: 208276.4219 - val_loss: 261573.3906\n",
      "Epoch 187/200\n",
      "40/40 [==============================] - 0s 2ms/step - loss: 208244.5156 - val_loss: 261394.6094\n",
      "Epoch 188/200\n",
      "40/40 [==============================] - 0s 2ms/step - loss: 208121.5312 - val_loss: 261470.9375\n",
      "Epoch 189/200\n",
      "40/40 [==============================] - 0s 2ms/step - loss: 208219.2500 - val_loss: 260920.0469\n",
      "Epoch 190/200\n",
      "40/40 [==============================] - 0s 2ms/step - loss: 208126.1094 - val_loss: 260928.0781\n",
      "Epoch 191/200\n",
      "40/40 [==============================] - 0s 2ms/step - loss: 208141.6875 - val_loss: 260897.4688\n",
      "Epoch 192/200\n",
      "40/40 [==============================] - 0s 2ms/step - loss: 208069.0156 - val_loss: 261669.2031\n",
      "Epoch 193/200\n",
      "40/40 [==============================] - 0s 2ms/step - loss: 207989.8750 - val_loss: 261236.0000\n",
      "Epoch 194/200\n",
      "40/40 [==============================] - 0s 2ms/step - loss: 207964.6875 - val_loss: 260911.5469\n",
      "Epoch 195/200\n",
      "40/40 [==============================] - 0s 2ms/step - loss: 208179.4062 - val_loss: 261135.7812\n",
      "Epoch 196/200\n",
      "40/40 [==============================] - 0s 2ms/step - loss: 207838.4531 - val_loss: 261188.6094\n",
      "Epoch 197/200\n",
      "40/40 [==============================] - 0s 2ms/step - loss: 207937.5312 - val_loss: 260959.4688\n",
      "Epoch 198/200\n",
      "40/40 [==============================] - 0s 2ms/step - loss: 207802.8594 - val_loss: 261257.8750\n",
      "Epoch 199/200\n",
      "40/40 [==============================] - 0s 2ms/step - loss: 207866.1250 - val_loss: 262057.8125\n",
      "Epoch 200/200\n",
      "40/40 [==============================] - 0s 2ms/step - loss: 207699.8438 - val_loss: 261475.3125\n"
     ]
    },
    {
     "data": {
      "text/plain": [
       "\"\\ny_pred = model.predict(X_test)\\nplt.plot(y_test, color = 'red', label = 'Real data')\\nplt.plot(y_pred, color = 'blue', label = 'Predicted data')\\nplt.title('Prediction')\\nplt.legend()\\nplt.show()\\n\\nnp.random.seed(0)\\ntf.random.set_seed(0)\\nhistory = model.fit(train_feats_matrix, train_label_matrix,\\n                    validation_data=(test_feats_matrix, test_label_matrix),\\n                    epochs=100, batch_size=100, verbose=0)\\n\""
      ]
     },
     "execution_count": 37,
     "metadata": {},
     "output_type": "execute_result"
    }
   ],
   "source": [
    "sc = StandardScaler()\n",
    "X_train = sc.fit_transform(X_train)\n",
    "X_test = sc.transform(X_test)\n",
    "\n",
    "# Initialising the ANN\n",
    "model = Sequential()\n",
    "\n",
    "# Adding the input layer and the first hidden layer\n",
    "model.add(Dense(16, activation = 'relu', input_dim = 14))\n",
    "\n",
    "# Adding the second hidden layer\n",
    "model.add(Dense(units = 8, activation = 'relu'))\n",
    "\"\"\"\n",
    "# Adding the third hidden layer\n",
    "model.add(Dense(units = 4, activation = 'relu'))\n",
    "\"\"\"\n",
    "\n",
    "# Adding the output layer\n",
    "\n",
    "model.add(Dense(units = 1))\n",
    "\n",
    "#model.add(Dense(1))\n",
    "# Compiling the ANN\n",
    "model.compile(optimizer = 'adam', loss = 'mean_squared_error')\n",
    "\n",
    "# Fitting the ANN to the Training set(mini-batched gradient descent)\n",
    "np.random.seed(0)\n",
    "tf.random.set_seed(0)\n",
    "history = model.fit(X_train, y_train, validation_data=(X_test, y_test), batch_size = 10, epochs = 200)\n",
    "\"\"\"\n",
    "y_pred = model.predict(X_test)\n",
    "plt.plot(y_test, color = 'red', label = 'Real data')\n",
    "plt.plot(y_pred, color = 'blue', label = 'Predicted data')\n",
    "plt.title('Prediction')\n",
    "plt.legend()\n",
    "plt.show()\n",
    "\n",
    "np.random.seed(0)\n",
    "tf.random.set_seed(0)\n",
    "history = model.fit(train_feats_matrix, train_label_matrix,\n",
    "                    validation_data=(test_feats_matrix, test_label_matrix),\n",
    "                    epochs=100, batch_size=100, verbose=0)\n",
    "\"\"\""
   ]
  },
  {
   "cell_type": "code",
   "execution_count": 38,
   "metadata": {},
   "outputs": [
    {
     "data": {
      "image/png": "[encoded data removed]",
      "text/plain": [
       "<Figure size 720x288 with 1 Axes>"
      ]
     },
     "metadata": {
      "needs_background": "light"
     },
     "output_type": "display_data"
    }
   ],
   "source": [
    "''' Plot loss-iteration '''\n",
    "plt.figure(figsize=(10,4))\n",
    "plt.subplot(1,2,1)\n",
    "plt.plot(history.history[\"loss\"], label=\"training\", color=\"blue\", linestyle=\"dashed\")\n",
    "plt.plot(history.history[\"val_loss\"], label=\"test\", color=\"orange\")\n",
    "plt.xlabel(\"Iteration\")\n",
    "plt.ylabel(\"Loss\")\n",
    "plt.legend()\n",
    "\n",
    "plt.show()"
   ]
  },
  {
   "cell_type": "code",
   "execution_count": 39,
   "metadata": {},
   "outputs": [
    {
     "name": "stdout",
     "output_type": "stream",
     "text": [
      "13/13 [==============================] - 0s 831us/step\n",
      "train rmse =455.47282790692674\n",
      "4/4 [==============================] - 0s 2ms/step\n",
      "test rmse =511.3465687948461\n"
     ]
    }
   ],
   "source": [
    "from sklearn.metrics import mean_squared_error\n",
    "train_rms = mean_squared_error(y_train, model.predict(X_train), squared=False)\n",
    "print(f\"train rmse ={train_rms}\")\n",
    "\n",
    "test_rms = mean_squared_error(y_test, model.predict(X_test), squared=False)\n",
    "print(f\"test rmse ={test_rms}\")"
   ]
  },
  {
   "attachments": {},
   "cell_type": "markdown",
   "metadata": {},
   "source": [
    "Combining Genomic"
   ]
  },
  {
   "cell_type": "code",
   "execution_count": 40,
   "metadata": {},
   "outputs": [],
   "source": [
    "#getting genomic features\n",
    "genomic_df = df.drop(df.columns[range(1, 13)],axis=1,inplace=False)\n",
    "#fill null by 0\n",
    "genomic_df_0 = genomic_df.fillna(value=0, inplace = False)\n",
    "#merge CLI and Genomic\n",
    "full_X = pd.merge(processed_CLIs_df, genomic_df_0, on='tcga_participant_barcode', how='inner')\n",
    "full_X.drop(['tcga_participant_barcode', 'Overall_Survival'], axis=1, inplace = True)\n",
    "#normalization\n",
    "zscore_scaler = preprocessing.StandardScaler().fit(full_X)\n",
    "full_X = pd.DataFrame(zscore_scaler.transform(full_X), columns = full_X.columns)\n",
    "full_X_train, full_X_test, y_train, y_test = train_test_split(full_X, y, test_size=0.2,random_state =42)"
   ]
  },
  {
   "cell_type": "code",
   "execution_count": 41,
   "metadata": {},
   "outputs": [],
   "source": [
    "#NN\n",
    "sc = StandardScaler()\n",
    "full_X_train = sc.fit_transform(full_X_train)\n",
    "full_X_test = sc.transform(full_X_test)\n",
    "\n",
    "def build_full_NN(num_input_layer_unit, num_first_layer_unit=17, num_second_layer_unit=8):\n",
    "    # Initialising the ANN\n",
    "    full_NN_model = Sequential()\n",
    "\n",
    "    # Adding the input layer and the first hidden layer\n",
    "    full_NN_model.add(Dense(num_first_layer_unit, activation = 'relu', input_dim = num_input_layer_unit))\n",
    "\n",
    "    # Adding the second hidden layer\n",
    "    full_NN_model.add(Dense(units = num_second_layer_unit, activation = 'relu'))\n",
    "    \"\"\"\n",
    "    # Adding the third hidden layer\n",
    "    full_NN_model.add(Dense(units = 4, activation = 'relu'))\n",
    "    \"\"\"\n",
    "\n",
    "    # Adding the output layer\n",
    "    full_NN_model.add(Dense(units = 1))\n",
    "\n",
    "    # Compiling the ANN\n",
    "    full_NN_model.compile(optimizer = 'Adam', loss = 'mean_squared_error')\n",
    "\n",
    "    return full_NN_model"
   ]
  },
  {
   "cell_type": "code",
   "execution_count": 42,
   "metadata": {},
   "outputs": [
    {
     "data": {
      "image/png": "[encoded data removed]",
      "text/plain": [
       "<Figure size 720x288 with 1 Axes>"
      ]
     },
     "metadata": {
      "needs_background": "light"
     },
     "output_type": "display_data"
    },
    {
     "name": "stdout",
     "output_type": "stream",
     "text": [
      "(train rmse, test rmse)=(437.87,512.24)\n"
     ]
    }
   ],
   "source": [
    "''' Plot loss-iteration for (9,11) '''\n",
    "full_NN_model = build_full_NN(662, 9,11)\n",
    "full_history = full_NN_model.fit(full_X_train, y_train, validation_data=(full_X_test, y_test), batch_size = 10, epochs = 50, verbose = 0)\n",
    "plt.figure(figsize=(10,4))\n",
    "plt.subplot(1,2,1)\n",
    "plt.plot(full_history.history[\"loss\"], label=\"training\", color=\"blue\", linestyle=\"dashed\")\n",
    "plt.plot(full_history.history[\"val_loss\"], label=\"test\", color=\"orange\")\n",
    "plt.xlabel(\"Iteration\")\n",
    "plt.ylabel(\"Loss\")\n",
    "plt.legend()\n",
    "\n",
    "plt.show()\n",
    "train_rms = mean_squared_error(y_train, full_NN_model.predict(full_X_train, verbose=0), squared=False)\n",
    "test_rms = mean_squared_error(y_test, full_NN_model.predict(full_X_test, verbose=0), squared=False)\n",
    "print(f\"(train rmse, test rmse)=({round(train_rms, 2)},{round(test_rms, 2)})\")"
   ]
  },
  {
   "cell_type": "code",
   "execution_count": 51,
   "metadata": {},
   "outputs": [
    {
     "data": {
      "image/png": "[encoded data removed]",
      "text/plain": [
       "<Figure size 720x288 with 1 Axes>"
      ]
     },
     "metadata": {
      "needs_background": "light"
     },
     "output_type": "display_data"
    },
    {
     "name": "stdout",
     "output_type": "stream",
     "text": [
      "(train rmse, test rmse)=(106.74,814.9)\n"
     ]
    }
   ],
   "source": [
    "''' Plot loss-iteration for (9,11) '''\n",
    "full_NN_model = build_full_NN(662, 9,11)\n",
    "full_history = full_NN_model.fit(full_X_train, y_train, validation_data=(full_X_test, y_test), batch_size = 10, epochs = 350, verbose = 0)\n",
    "plt.figure(figsize=(10,4))\n",
    "plt.subplot(1,2,1)\n",
    "plt.plot(full_history.history[\"loss\"], label=\"training\", color=\"blue\", linestyle=\"dashed\")\n",
    "plt.plot(full_history.history[\"val_loss\"], label=\"test\", color=\"orange\")\n",
    "plt.xlabel(\"Iteration\")\n",
    "plt.ylabel(\"Loss\")\n",
    "plt.legend()\n",
    "\n",
    "plt.show()\n",
    "train_rms = mean_squared_error(y_train, full_NN_model.predict(full_X_train, verbose=0), squared=False)\n",
    "test_rms = mean_squared_error(y_test, full_NN_model.predict(full_X_test, verbose=0), squared=False)\n",
    "print(f\"(train rmse, test rmse)=({round(train_rms, 2)},{round(test_rms, 2)})\")"
   ]
  },
  {
   "cell_type": "code",
   "execution_count": 52,
   "metadata": {},
   "outputs": [
    {
     "name": "stdout",
     "output_type": "stream",
     "text": [
      "(epochs, train rmse, test rmse)=(50,427.55,514.97)\n",
      "(epochs, train rmse, test rmse)=(100,319.79,555.2)\n",
      "(epochs, train rmse, test rmse)=(150,262.65,571.53)\n",
      "(epochs, train rmse, test rmse)=(200,239.62,614.02)\n",
      "(epochs, train rmse, test rmse)=(250,190.4,634.77)\n",
      "(epochs, train rmse, test rmse)=(300,151.09,750.74)\n",
      "(epochs, train rmse, test rmse)=(350,92.31,946.12)\n"
     ]
    }
   ],
   "source": [
    "#check if optimal epochs attained\n",
    "for i in range(1, 8):\n",
    "    full_NN_model = build_full_NN(662, 9,11)\n",
    "    full_history = full_NN_model.fit(full_X_train, y_train, validation_data=(full_X_test, y_test), batch_size = 10, epochs = i*50, verbose = 0)\n",
    "    '''\n",
    "    plt.figure(figsize=(10,4))\n",
    "    plt.subplot(1,2,1)\n",
    "    plt.plot(full_history.history[\"loss\"], label=\"training\", color=\"blue\", linestyle=\"dashed\")\n",
    "    plt.plot(full_history.history[\"val_loss\"], label=\"test\", color=\"orange\")\n",
    "    plt.xlabel(\"Iteration\")\n",
    "    plt.ylabel(\"Loss\")\n",
    "    plt.legend()\n",
    "    plt.show()\n",
    "    '''\n",
    "    train_rms = mean_squared_error(y_train, full_NN_model.predict(full_X_train, verbose=0), squared=False)\n",
    "    test_rms = mean_squared_error(y_test, full_NN_model.predict(full_X_test, verbose=0), squared=False)\n",
    "    print(f\"(epochs, train rmse, test rmse)=({i*50},{round(train_rms, 2)},{round(test_rms, 2)})\")"
   ]
  },
  {
   "attachments": {},
   "cell_type": "markdown",
   "metadata": {},
   "source": [
    "\n",
    "1.try genomic NN model again with only Lasso selected features\n",
    "\n",
    "2.CNN conbolution on mutation pairs\n",
    "\n",
    "3.NN hyper param, layers\n",
    "\n",
    "4.PCA, SVD, and matrix factorization\n",
    "\n",
    "\n",
    "Goal:\n",
    "RMSE < 456"
   ]
  },
  {
   "cell_type": "code",
   "execution_count": 53,
   "metadata": {},
   "outputs": [],
   "source": [
    "#get Lasso selected features\n",
    "CLI_lasso_selected = [\"CLI_years_to_birth\",\n",
    "\"CLI_date_of_initial_pathologic_diagnosis\",\n",
    "\"CLI_karnofsky_performance_score\",\n",
    "\"CLI_gender_male\",\n",
    "\"CLI_radiation_therapy_no\",\n",
    "\"CLI_radiation_therapy_yes\",\n",
    "\"CLI_histological_type_treated primary gbm\",\n",
    "\"CLI_ethnicity_hispanic or latino\",\n",
    "\"CLI_ethnicity_not hispanic or latino\"\n",
    "]\n",
    "full_lasso_selected = [\"CLI_years_to_birth\",\n",
    "\"CLI_date_of_initial_pathologic_diagnosis\",\n",
    "\"CLI_karnofsky_performance_score\",\n",
    "\"CLI_radiation_therapy_no\",\n",
    "\"CLI_radiation_therapy_yes\",\n",
    "\"CLI_histological_type_treated primary gbm\",\n",
    "\"SMG_mutsig2.0_SFT2D1_cosmic\",\n",
    "\"Amp_8q24.21 \",\n",
    "\"Del_1p36.32 \",\n",
    "\"Del_10p11.23\",\n",
    "\"CN_1p_Amp\"]\n",
    "\n",
    "\n",
    "full_X_lasso_selected = full_X.loc[:, list(set(CLI_lasso_selected).union(set(full_lasso_selected)))] #get from both lists\n",
    "full_lasso_selected_X_train, full_lasso_selected_X_test, y_train, y_test = train_test_split(full_X_lasso_selected, y, test_size=0.2,random_state =42)\n",
    "full_lasso_selected_X_train = sc.fit_transform(full_lasso_selected_X_train)\n",
    "full_lasso_selected_X_test = sc.transform(full_lasso_selected_X_test)"
   ]
  },
  {
   "cell_type": "code",
   "execution_count": 54,
   "metadata": {},
   "outputs": [
    {
     "data": {
      "image/png": "[encoded data removed]",
      "text/plain": [
       "<Figure size 720x288 with 1 Axes>"
      ]
     },
     "metadata": {
      "needs_background": "light"
     },
     "output_type": "display_data"
    },
    {
     "name": "stdout",
     "output_type": "stream",
     "text": [
      "(train rmse, test rmse)=(444.31,488.56)\n"
     ]
    }
   ],
   "source": [
    "''' Plot loss-iteration for (9,11) '''\n",
    "full_lasso_selected_NN_model = build_full_NN(14,9,11)\n",
    "full_lasso_selected_history = full_lasso_selected_NN_model.fit(full_lasso_selected_X_train, y_train, validation_data=(full_lasso_selected_X_test, y_test), batch_size = 10, epochs = 50, verbose = 0)\n",
    "plt.figure(figsize=(10,4))\n",
    "plt.subplot(1,2,1)\n",
    "plt.plot(full_lasso_selected_history.history[\"loss\"], label=\"training\", color=\"blue\", linestyle=\"dashed\")\n",
    "plt.plot(full_lasso_selected_history.history[\"val_loss\"], label=\"test\", color=\"orange\")\n",
    "plt.xlabel(\"Iteration\")\n",
    "plt.ylabel(\"Loss\")\n",
    "plt.legend()\n",
    "\n",
    "plt.show()\n",
    "train_rms = mean_squared_error(y_train, full_lasso_selected_NN_model.predict(full_lasso_selected_X_train, verbose=0), squared=False)\n",
    "test_rms = mean_squared_error(y_test, full_lasso_selected_NN_model.predict(full_lasso_selected_X_test, verbose=0), squared=False)\n",
    "print(f\"(train rmse, test rmse)=({round(train_rms, 2)},{round(test_rms, 2)})\")"
   ]
  },
  {
   "cell_type": "code",
   "execution_count": 55,
   "metadata": {},
   "outputs": [
    {
     "data": {
      "image/png": "[encoded data removed]",
      "text/plain": [
       "<Figure size 720x288 with 1 Axes>"
      ]
     },
     "metadata": {
      "needs_background": "light"
     },
     "output_type": "display_data"
    },
    {
     "name": "stdout",
     "output_type": "stream",
     "text": [
      "(epochs, train rmse, test rmse)=(50,441.3,489.14)\n"
     ]
    },
    {
     "data": {
      "image/png": "[encoded data removed]",
      "text/plain": [
       "<Figure size 720x288 with 1 Axes>"
      ]
     },
     "metadata": {
      "needs_background": "light"
     },
     "output_type": "display_data"
    },
    {
     "name": "stdout",
     "output_type": "stream",
     "text": [
      "(epochs, train rmse, test rmse)=(100,433.13,478.41)\n"
     ]
    },
    {
     "data": {
      "image/png": "[encoded data removed]",
      "text/plain": [
       "<Figure size 720x288 with 1 Axes>"
      ]
     },
     "metadata": {
      "needs_background": "light"
     },
     "output_type": "display_data"
    },
    {
     "name": "stdout",
     "output_type": "stream",
     "text": [
      "(epochs, train rmse, test rmse)=(150,412.99,466.05)\n"
     ]
    },
    {
     "data": {
      "image/png": "[encoded data removed]",
      "text/plain": [
       "<Figure size 720x288 with 1 Axes>"
      ]
     },
     "metadata": {
      "needs_background": "light"
     },
     "output_type": "display_data"
    },
    {
     "name": "stdout",
     "output_type": "stream",
     "text": [
      "(epochs, train rmse, test rmse)=(200,417.98,472.33)\n"
     ]
    },
    {
     "data": {
      "image/png": "[encoded data removed]",
      "text/plain": [
       "<Figure size 720x288 with 1 Axes>"
      ]
     },
     "metadata": {
      "needs_background": "light"
     },
     "output_type": "display_data"
    },
    {
     "name": "stdout",
     "output_type": "stream",
     "text": [
      "(epochs, train rmse, test rmse)=(250,422.35,464.39)\n"
     ]
    },
    {
     "data": {
      "image/png": "[encoded data removed]",
      "text/plain": [
       "<Figure size 720x288 with 1 Axes>"
      ]
     },
     "metadata": {
      "needs_background": "light"
     },
     "output_type": "display_data"
    },
    {
     "name": "stdout",
     "output_type": "stream",
     "text": [
      "(epochs, train rmse, test rmse)=(300,415.02,462.74)\n"
     ]
    },
    {
     "data": {
      "image/png": "[encoded data removed]",
      "text/plain": [
       "<Figure size 720x288 with 1 Axes>"
      ]
     },
     "metadata": {
      "needs_background": "light"
     },
     "output_type": "display_data"
    },
    {
     "name": "stdout",
     "output_type": "stream",
     "text": [
      "(epochs, train rmse, test rmse)=(350,398.89,463.0)\n"
     ]
    }
   ],
   "source": [
    "for i in range(1, 8):\n",
    "    full_lasso_selected_NN_model = build_full_NN(14,9,11)\n",
    "    full_lasso_selected_history = full_lasso_selected_NN_model.fit(full_lasso_selected_X_train, y_train, validation_data=(full_lasso_selected_X_test, y_test), batch_size = 10, epochs = i*50, verbose = 0)\n",
    "    plt.figure(figsize=(10,4))\n",
    "    plt.subplot(1,2,1)\n",
    "    plt.plot(full_lasso_selected_history.history[\"loss\"], label=\"training\", color=\"blue\", linestyle=\"dashed\")\n",
    "    plt.plot(full_lasso_selected_history.history[\"val_loss\"], label=\"test\", color=\"orange\")\n",
    "    plt.xlabel(\"Iteration\")\n",
    "    plt.ylabel(\"Loss\")\n",
    "    plt.legend()\n",
    "\n",
    "    plt.show()\n",
    "    train_rms = mean_squared_error(y_train, full_lasso_selected_NN_model.predict(full_lasso_selected_X_train, verbose=0), squared=False)\n",
    "    test_rms = mean_squared_error(y_test, full_lasso_selected_NN_model.predict(full_lasso_selected_X_test, verbose=0), squared=False)\n",
    "    print(f\"(epochs, train rmse, test rmse)=({i*50},{round(train_rms, 2)},{round(test_rms, 2)})\")"
   ]
  },
  {
   "attachments": {},
   "cell_type": "markdown",
   "metadata": {},
   "source": [
    "optimal epoch for lasso-selected features are much higher, settled at around 300 and give test rmse of 462.74"
   ]
  },
  {
   "attachments": {},
   "cell_type": "markdown",
   "metadata": {},
   "source": [
    "now check if optimal layer nodes for lasso-selected features differs from (9, 11)  "
   ]
  },
  {
   "cell_type": "code",
   "execution_count": 56,
   "metadata": {},
   "outputs": [
    {
     "name": "stdout",
     "output_type": "stream",
     "text": [
      "(first_layer, second_layer, train rmse, test rmse)=(8,4,431.41,476.31)\n",
      "(first_layer, second_layer, train rmse, test rmse)=(8,6,423.93,466.25)\n",
      "(first_layer, second_layer, train rmse, test rmse)=(8,8,430.28,483.38)\n",
      "(first_layer, second_layer, train rmse, test rmse)=(8,10,417.01,476.45)\n",
      "(first_layer, second_layer, train rmse, test rmse)=(8,12,410.86,468.23)\n",
      "(first_layer, second_layer, train rmse, test rmse)=(8,14,424.29,471.66)\n",
      "(first_layer, second_layer, train rmse, test rmse)=(8,16,426.52,481.09)\n",
      "(first_layer, second_layer, train rmse, test rmse)=(8,18,423.33,466.3)\n",
      "(first_layer, second_layer, train rmse, test rmse)=(8,20,409.5,473.74)\n",
      "(first_layer, second_layer, train rmse, test rmse)=(8,22,410.21,457.8)\n",
      "(first_layer, second_layer, train rmse, test rmse)=(8,24,424.06,473.72)\n",
      "(first_layer, second_layer, train rmse, test rmse)=(10,4,422.32,479.55)\n",
      "(first_layer, second_layer, train rmse, test rmse)=(10,6,439.85,512.82)\n",
      "(first_layer, second_layer, train rmse, test rmse)=(10,8,418.65,465.75)\n",
      "(first_layer, second_layer, train rmse, test rmse)=(10,10,411.95,464.88)\n",
      "(first_layer, second_layer, train rmse, test rmse)=(10,12,414.92,479.11)\n",
      "(first_layer, second_layer, train rmse, test rmse)=(10,14,408.81,456.87)\n",
      "(first_layer, second_layer, train rmse, test rmse)=(10,16,409.16,468.03)\n",
      "(first_layer, second_layer, train rmse, test rmse)=(10,18,421.64,478.19)\n",
      "(first_layer, second_layer, train rmse, test rmse)=(10,20,419.61,481.14)\n",
      "(first_layer, second_layer, train rmse, test rmse)=(10,22,422.54,470.18)\n",
      "(first_layer, second_layer, train rmse, test rmse)=(10,24,408.15,463.86)\n",
      "(first_layer, second_layer, train rmse, test rmse)=(12,4,421.23,477.08)\n",
      "(first_layer, second_layer, train rmse, test rmse)=(12,6,421.19,475.54)\n",
      "(first_layer, second_layer, train rmse, test rmse)=(12,8,424.75,465.92)\n",
      "(first_layer, second_layer, train rmse, test rmse)=(12,10,417.69,465.58)\n",
      "(first_layer, second_layer, train rmse, test rmse)=(12,12,424.75,466.18)\n",
      "(first_layer, second_layer, train rmse, test rmse)=(12,14,420.75,470.54)\n",
      "(first_layer, second_layer, train rmse, test rmse)=(12,16,416.21,468.84)\n",
      "(first_layer, second_layer, train rmse, test rmse)=(12,18,422.16,479.44)\n",
      "(first_layer, second_layer, train rmse, test rmse)=(12,20,406.77,462.44)\n",
      "(first_layer, second_layer, train rmse, test rmse)=(12,22,413.49,460.55)\n",
      "(first_layer, second_layer, train rmse, test rmse)=(12,24,415.0,462.93)\n",
      "(first_layer, second_layer, train rmse, test rmse)=(14,4,425.98,473.61)\n",
      "(first_layer, second_layer, train rmse, test rmse)=(14,6,412.92,465.9)\n",
      "(first_layer, second_layer, train rmse, test rmse)=(14,8,422.49,472.55)\n",
      "(first_layer, second_layer, train rmse, test rmse)=(14,10,419.37,473.39)\n",
      "(first_layer, second_layer, train rmse, test rmse)=(14,12,414.88,482.27)\n",
      "(first_layer, second_layer, train rmse, test rmse)=(14,14,428.54,486.0)\n",
      "(first_layer, second_layer, train rmse, test rmse)=(14,16,419.3,467.29)\n",
      "(first_layer, second_layer, train rmse, test rmse)=(14,18,421.47,470.82)\n",
      "(first_layer, second_layer, train rmse, test rmse)=(14,20,409.71,464.51)\n",
      "(first_layer, second_layer, train rmse, test rmse)=(14,22,411.96,452.81)\n",
      "(first_layer, second_layer, train rmse, test rmse)=(14,24,410.86,459.35)\n",
      "(first_layer, second_layer, train rmse, test rmse)=(16,4,427.56,488.27)\n",
      "(first_layer, second_layer, train rmse, test rmse)=(16,6,417.04,469.82)\n",
      "(first_layer, second_layer, train rmse, test rmse)=(16,8,412.14,463.86)\n",
      "(first_layer, second_layer, train rmse, test rmse)=(16,10,413.85,456.04)\n",
      "(first_layer, second_layer, train rmse, test rmse)=(16,12,409.13,454.71)\n",
      "(first_layer, second_layer, train rmse, test rmse)=(16,14,404.8,456.27)\n",
      "(first_layer, second_layer, train rmse, test rmse)=(16,16,405.84,460.35)\n",
      "(first_layer, second_layer, train rmse, test rmse)=(16,18,407.08,467.13)\n",
      "(first_layer, second_layer, train rmse, test rmse)=(16,20,413.86,474.4)\n",
      "(first_layer, second_layer, train rmse, test rmse)=(16,22,414.46,467.15)\n",
      "(first_layer, second_layer, train rmse, test rmse)=(16,24,401.52,454.26)\n",
      "(first_layer, second_layer, train rmse, test rmse)=(18,4,427.28,491.88)\n",
      "(first_layer, second_layer, train rmse, test rmse)=(18,6,413.01,476.77)\n",
      "(first_layer, second_layer, train rmse, test rmse)=(18,8,426.05,465.27)\n",
      "(first_layer, second_layer, train rmse, test rmse)=(18,10,408.67,465.48)\n",
      "(first_layer, second_layer, train rmse, test rmse)=(18,12,409.05,454.66)\n",
      "(first_layer, second_layer, train rmse, test rmse)=(18,14,415.29,452.8)\n",
      "(first_layer, second_layer, train rmse, test rmse)=(18,16,403.8,454.99)\n",
      "(first_layer, second_layer, train rmse, test rmse)=(18,18,403.8,449.61)\n",
      "(first_layer, second_layer, train rmse, test rmse)=(18,20,405.25,457.79)\n",
      "(first_layer, second_layer, train rmse, test rmse)=(18,22,409.15,462.63)\n",
      "(first_layer, second_layer, train rmse, test rmse)=(18,24,412.79,451.63)\n",
      "(first_layer, second_layer, train rmse, test rmse)=(20,4,409.57,463.5)\n",
      "(first_layer, second_layer, train rmse, test rmse)=(20,6,415.81,472.86)\n",
      "(first_layer, second_layer, train rmse, test rmse)=(20,8,407.98,468.19)\n",
      "(first_layer, second_layer, train rmse, test rmse)=(20,10,408.29,457.37)\n",
      "(first_layer, second_layer, train rmse, test rmse)=(20,12,413.08,467.23)\n",
      "(first_layer, second_layer, train rmse, test rmse)=(20,14,408.07,464.33)\n",
      "(first_layer, second_layer, train rmse, test rmse)=(20,16,403.17,463.04)\n",
      "(first_layer, second_layer, train rmse, test rmse)=(20,18,407.31,461.98)\n",
      "(first_layer, second_layer, train rmse, test rmse)=(20,20,403.7,458.2)\n",
      "(first_layer, second_layer, train rmse, test rmse)=(20,22,406.09,457.73)\n",
      "(first_layer, second_layer, train rmse, test rmse)=(20,24,402.07,456.79)\n",
      "(first_layer, second_layer, train rmse, test rmse)=(22,4,413.64,463.52)\n",
      "(first_layer, second_layer, train rmse, test rmse)=(22,6,416.86,479.34)\n",
      "(first_layer, second_layer, train rmse, test rmse)=(22,8,406.86,459.1)\n",
      "(first_layer, second_layer, train rmse, test rmse)=(22,10,408.76,465.42)\n",
      "(first_layer, second_layer, train rmse, test rmse)=(22,12,406.46,456.7)\n",
      "(first_layer, second_layer, train rmse, test rmse)=(22,14,402.88,460.71)\n",
      "(first_layer, second_layer, train rmse, test rmse)=(22,16,405.61,458.84)\n",
      "(first_layer, second_layer, train rmse, test rmse)=(22,18,405.71,463.84)\n",
      "(first_layer, second_layer, train rmse, test rmse)=(22,20,405.05,452.76)\n",
      "(first_layer, second_layer, train rmse, test rmse)=(22,22,410.19,451.24)\n",
      "(first_layer, second_layer, train rmse, test rmse)=(22,24,404.88,453.95)\n",
      "(first_layer, second_layer, train rmse, test rmse)=(24,4,416.26,481.81)\n",
      "(first_layer, second_layer, train rmse, test rmse)=(24,6,407.09,466.9)\n",
      "(first_layer, second_layer, train rmse, test rmse)=(24,8,400.83,462.71)\n",
      "(first_layer, second_layer, train rmse, test rmse)=(24,10,410.65,459.32)\n",
      "(first_layer, second_layer, train rmse, test rmse)=(24,12,405.16,458.46)\n",
      "(first_layer, second_layer, train rmse, test rmse)=(24,14,401.36,466.91)\n",
      "(first_layer, second_layer, train rmse, test rmse)=(24,16,415.48,458.23)\n",
      "(first_layer, second_layer, train rmse, test rmse)=(24,18,399.66,459.26)\n",
      "(first_layer, second_layer, train rmse, test rmse)=(24,20,402.81,460.47)\n",
      "(first_layer, second_layer, train rmse, test rmse)=(24,22,403.13,458.78)\n",
      "(first_layer, second_layer, train rmse, test rmse)=(24,24,403.02,457.55)\n",
      "(first_layer, second_layer, train rmse, test rmse)=(26,4,413.75,470.27)\n",
      "(first_layer, second_layer, train rmse, test rmse)=(26,6,410.61,462.17)\n",
      "(first_layer, second_layer, train rmse, test rmse)=(26,8,407.87,462.71)\n",
      "(first_layer, second_layer, train rmse, test rmse)=(26,10,407.28,460.28)\n",
      "(first_layer, second_layer, train rmse, test rmse)=(26,12,405.27,456.35)\n",
      "(first_layer, second_layer, train rmse, test rmse)=(26,14,407.24,467.71)\n",
      "(first_layer, second_layer, train rmse, test rmse)=(26,16,401.56,448.99)\n",
      "(first_layer, second_layer, train rmse, test rmse)=(26,18,400.08,456.84)\n",
      "(first_layer, second_layer, train rmse, test rmse)=(26,20,412.14,460.91)\n",
      "(first_layer, second_layer, train rmse, test rmse)=(26,22,398.29,463.69)\n",
      "(first_layer, second_layer, train rmse, test rmse)=(26,24,401.06,457.15)\n",
      "(first_layer, second_layer, train rmse, test rmse)=(28,4,417.16,476.42)\n",
      "(first_layer, second_layer, train rmse, test rmse)=(28,6,409.51,456.58)\n",
      "(first_layer, second_layer, train rmse, test rmse)=(28,8,405.78,456.86)\n",
      "(first_layer, second_layer, train rmse, test rmse)=(28,10,407.03,459.66)\n",
      "(first_layer, second_layer, train rmse, test rmse)=(28,12,404.26,461.61)\n",
      "(first_layer, second_layer, train rmse, test rmse)=(28,14,403.42,456.76)\n",
      "(first_layer, second_layer, train rmse, test rmse)=(28,16,402.08,458.87)\n",
      "(first_layer, second_layer, train rmse, test rmse)=(28,18,402.46,465.06)\n",
      "(first_layer, second_layer, train rmse, test rmse)=(28,20,402.19,460.08)\n",
      "(first_layer, second_layer, train rmse, test rmse)=(28,22,401.48,455.0)\n",
      "(first_layer, second_layer, train rmse, test rmse)=(28,24,399.88,452.35)\n",
      "(first_layer, second_layer, train rmse, test rmse)=(30,4,412.98,472.5)\n",
      "(first_layer, second_layer, train rmse, test rmse)=(30,6,409.53,467.11)\n",
      "(first_layer, second_layer, train rmse, test rmse)=(30,8,405.85,461.25)\n",
      "(first_layer, second_layer, train rmse, test rmse)=(30,10,401.39,455.55)\n",
      "(first_layer, second_layer, train rmse, test rmse)=(30,12,402.18,462.27)\n",
      "(first_layer, second_layer, train rmse, test rmse)=(30,14,402.67,461.25)\n",
      "(first_layer, second_layer, train rmse, test rmse)=(30,16,399.22,461.2)\n",
      "(first_layer, second_layer, train rmse, test rmse)=(30,18,403.32,460.92)\n",
      "(first_layer, second_layer, train rmse, test rmse)=(30,20,405.83,448.91)\n",
      "(first_layer, second_layer, train rmse, test rmse)=(30,22,401.88,462.98)\n",
      "(first_layer, second_layer, train rmse, test rmse)=(30,24,401.69,457.19)\n",
      "(first_layer, second_layer, train rmse, test rmse)=(32,4,408.5,464.75)\n",
      "(first_layer, second_layer, train rmse, test rmse)=(32,6,414.04,464.62)\n",
      "(first_layer, second_layer, train rmse, test rmse)=(32,8,418.15,473.07)\n",
      "(first_layer, second_layer, train rmse, test rmse)=(32,10,406.47,460.71)\n",
      "(first_layer, second_layer, train rmse, test rmse)=(32,12,402.25,454.33)\n",
      "(first_layer, second_layer, train rmse, test rmse)=(32,14,407.15,459.25)\n",
      "(first_layer, second_layer, train rmse, test rmse)=(32,16,401.79,451.83)\n",
      "(first_layer, second_layer, train rmse, test rmse)=(32,18,400.74,453.08)\n",
      "(first_layer, second_layer, train rmse, test rmse)=(32,20,396.71,454.02)\n",
      "(first_layer, second_layer, train rmse, test rmse)=(32,22,397.46,456.75)\n",
      "(first_layer, second_layer, train rmse, test rmse)=(32,24,396.93,456.03)\n"
     ]
    }
   ],
   "source": [
    "#try different number of units in each hidden layer\n",
    "num_hidden_unit= list()\n",
    "for  x in range(8, 34,2):\n",
    "    for y in range(4, 26,2):\n",
    "        num_hidden_unit.append((x,y))\n",
    "\n",
    "rmse_for_each_num_hidden = list()\n",
    "for a, b in num_hidden_unit:\n",
    "    full_lasso_selected_NN_model = build_full_NN(14,a,b)\n",
    "    full_lasso_selected_history = full_lasso_selected_NN_model.fit(full_lasso_selected_X_train, y_train, validation_data=(full_lasso_selected_X_test, y_test), batch_size = 10, epochs = 150, verbose = 0)\n",
    "    train_rms = mean_squared_error(y_train, full_lasso_selected_NN_model.predict(full_lasso_selected_X_train, verbose=0), squared=False)\n",
    "    test_rms = mean_squared_error(y_test, full_lasso_selected_NN_model.predict(full_lasso_selected_X_test, verbose=0), squared=False)\n",
    "\n",
    "    print(f\"(first_layer, second_layer, train rmse, test rmse)=({a},{b},{round(train_rms, 2)},{round(test_rms, 2)})\")\n",
    "    rmse_for_each_num_hidden.append((a,b,train_rms,test_rms))\n",
    "\n"
   ]
  },
  {
   "cell_type": "code",
   "execution_count": 57,
   "metadata": {},
   "outputs": [
    {
     "data": {
      "text/plain": [
       "(30, 20, 405.83120307295354, 448.9120919965287)"
      ]
     },
     "execution_count": 57,
     "metadata": {},
     "output_type": "execute_result"
    }
   ],
   "source": [
    "min(rmse_for_each_num_hidden, key = lambda t: t[3])"
   ]
  },
  {
   "cell_type": "code",
   "execution_count": 58,
   "metadata": {},
   "outputs": [],
   "source": [
    "#convert list to dict\n",
    "rmse_dict = dict()\n",
    "for first_layer, second_layer, train_rmse, test_rmse in rmse_for_each_num_hidden:\n",
    "    rmse_dict[(first_layer, second_layer)] = test_rmse"
   ]
  },
  {
   "cell_type": "code",
   "execution_count": 73,
   "metadata": {},
   "outputs": [
    {
     "data": {
      "text/plain": [
       "Text(0, 0.5, 'second_layer_nodes')"
      ]
     },
     "execution_count": 73,
     "metadata": {},
     "output_type": "execute_result"
    },
    {
     "data": {
      "image/png": "[encoded data removed]",
      "text/plain": [
       "<Figure size 432x288 with 2 Axes>"
      ]
     },
     "metadata": {
      "needs_background": "light"
     },
     "output_type": "display_data"
    }
   ],
   "source": [
    "plt.figure(figsize=(6, 4))\n",
    "# you should have a dictionary here.\n",
    "a3 = np.array([[rmse_dict[(first_layer, second_layer)] for first_layer in range(8, 34,2)] for second_layer in range(4, 26,2)])\n",
    "plt.title('hidden layer size')\n",
    "plt.imshow(a3, cmap=\"hot\", interpolation=\"nearest\")\n",
    "plt.colorbar()\n",
    "plt.xticks(ticks=range(0, 13), labels=range(8, 34,2))\n",
    "plt.xlabel(\"first_layer_nodes\")\n",
    "plt.yticks(ticks=range(0, 11), labels=range(4, 26,2))\n",
    "plt.ylabel(\"second_layer_nodes\")\n"
   ]
  },
  {
   "attachments": {},
   "cell_type": "markdown",
   "metadata": {},
   "source": [
    "rmse is optimized at (30, 20), followed by (26, 16) and (18, 18)\n",
    "now try push to 350 epochs for this."
   ]
  },
  {
   "cell_type": "code",
   "execution_count": 81,
   "metadata": {},
   "outputs": [
    {
     "name": "stdout",
     "output_type": "stream",
     "text": [
      "(epochs, train rmse, test rmse)=(50,428.47,476.45)\n",
      "(epochs, train rmse, test rmse)=(100,407.22,456.13)\n",
      "(epochs, train rmse, test rmse)=(150,399.74,454.4)\n",
      "(epochs, train rmse, test rmse)=(200,392.06,463.02)\n",
      "(epochs, train rmse, test rmse)=(250,386.92,455.02)\n",
      "(epochs, train rmse, test rmse)=(300,383.65,447.98)\n",
      "(epochs, train rmse, test rmse)=(350,378.18,464.01)\n"
     ]
    }
   ],
   "source": [
    "for i in range(1, 8):\n",
    "    full_lasso_selected_NN_model = build_full_NN(14, 30, 20)\n",
    "    full_lasso_selected_history = full_lasso_selected_NN_model.fit(full_lasso_selected_X_train, y_train, validation_data=(full_lasso_selected_X_test, y_test), batch_size = 10, epochs = i*50, verbose = 0)\n",
    "    '''\n",
    "    plt.figure(figsize=(10,4))\n",
    "    plt.subplot(1,2,1)\n",
    "    plt.plot(full_lasso_selected_history.history[\"loss\"], label=\"training\", color=\"blue\", linestyle=\"dashed\")\n",
    "    plt.plot(full_lasso_selected_history.history[\"val_loss\"], label=\"test\", color=\"orange\")\n",
    "    plt.xlabel(\"Iteration\")\n",
    "    plt.ylabel(\"Loss\")\n",
    "    plt.legend()\n",
    "    plt.show()\n",
    "    '''\n",
    "    train_rms = mean_squared_error(y_train, full_lasso_selected_NN_model.predict(full_lasso_selected_X_train, verbose=0), squared=False)\n",
    "    test_rms = mean_squared_error(y_test, full_lasso_selected_NN_model.predict(full_lasso_selected_X_test, verbose=0), squared=False)\n",
    "    print(f\"(epochs, train rmse, test rmse)=({i*50},{round(train_rms, 2)},{round(test_rms, 2)})\")"
   ]
  },
  {
   "cell_type": "code",
   "execution_count": 87,
   "metadata": {},
   "outputs": [
    {
     "name": "stdout",
     "output_type": "stream",
     "text": [
      "(epochs, train rmse, test rmse)=(80,413.38,459.9)\n",
      "(epochs, train rmse, test rmse)=(100,407.57,462.18)\n",
      "(epochs, train rmse, test rmse)=(120,407.24,460.25)\n",
      "(epochs, train rmse, test rmse)=(140,403.46,455.85)\n",
      "(epochs, train rmse, test rmse)=(160,403.29,449.9)\n",
      "(epochs, train rmse, test rmse)=(180,398.14,450.8)\n",
      "(epochs, train rmse, test rmse)=(200,394.58,453.99)\n"
     ]
    }
   ],
   "source": [
    "for i in range(1, 8):\n",
    "    full_lasso_selected_NN_model = build_full_NN(14, 30, 20)\n",
    "    full_lasso_selected_history = full_lasso_selected_NN_model.fit(full_lasso_selected_X_train, y_train, validation_data=(full_lasso_selected_X_test, y_test), batch_size = 10, epochs = 60+i*20, verbose = 0)\n",
    "    '''\n",
    "    plt.figure(figsize=(10,4))\n",
    "    plt.subplot(1,2,1)\n",
    "    plt.plot(full_lasso_selected_history.history[\"loss\"], label=\"training\", color=\"blue\", linestyle=\"dashed\")\n",
    "    plt.plot(full_lasso_selected_history.history[\"val_loss\"], label=\"test\", color=\"orange\")\n",
    "    plt.xlabel(\"Iteration\")\n",
    "    plt.ylabel(\"Loss\")\n",
    "    plt.legend()\n",
    "    plt.show()\n",
    "    '''\n",
    "    train_rms = mean_squared_error(y_train, full_lasso_selected_NN_model.predict(full_lasso_selected_X_train, verbose=0), squared=False)\n",
    "    test_rms = mean_squared_error(y_test, full_lasso_selected_NN_model.predict(full_lasso_selected_X_test, verbose=0), squared=False)\n",
    "    print(f\"(epochs, train rmse, test rmse)=({60+i*20},{round(train_rms, 2)},{round(test_rms, 2)})\")"
   ]
  },
  {
   "attachments": {},
   "cell_type": "markdown",
   "metadata": {},
   "source": [
    "(30, 20): epoch optimized at ~160\n"
   ]
  },
  {
   "cell_type": "code",
   "execution_count": 82,
   "metadata": {},
   "outputs": [
    {
     "data": {
      "image/png": "[encoded data removed]",
      "text/plain": [
       "<Figure size 720x288 with 1 Axes>"
      ]
     },
     "metadata": {
      "needs_background": "light"
     },
     "output_type": "display_data"
    },
    {
     "name": "stdout",
     "output_type": "stream",
     "text": [
      "(epochs, train rmse, test rmse)=(350,379.15,458.91)\n"
     ]
    }
   ],
   "source": [
    "full_lasso_selected_NN_model = build_full_NN(14, 30, 20)\n",
    "full_lasso_selected_history = full_lasso_selected_NN_model.fit(full_lasso_selected_X_train, y_train, validation_data=(full_lasso_selected_X_test, y_test), batch_size = 10, epochs = 350, verbose = 0)\n",
    "plt.figure(figsize=(10,4))\n",
    "plt.subplot(1,2,1)\n",
    "plt.plot(full_lasso_selected_history.history[\"loss\"], label=\"training\", color=\"blue\", linestyle=\"dashed\")\n",
    "plt.plot(full_lasso_selected_history.history[\"val_loss\"], label=\"test\", color=\"orange\")\n",
    "plt.xlabel(\"Iteration\")\n",
    "plt.ylabel(\"Loss\")\n",
    "plt.legend()\n",
    "plt.show()\n",
    "train_rms = mean_squared_error(y_train, full_lasso_selected_NN_model.predict(full_lasso_selected_X_train, verbose=0), squared=False)\n",
    "test_rms = mean_squared_error(y_test, full_lasso_selected_NN_model.predict(full_lasso_selected_X_test, verbose=0), squared=False)\n",
    "print(f\"(epochs, train rmse, test rmse)=({350},{round(train_rms, 2)},{round(test_rms, 2)})\")"
   ]
  },
  {
   "cell_type": "code",
   "execution_count": 88,
   "metadata": {},
   "outputs": [
    {
     "name": "stdout",
     "output_type": "stream",
     "text": [
      "(epochs, train rmse, test rmse)=(50,441.4,489.82)\n",
      "(epochs, train rmse, test rmse)=(100,421.87,478.15)\n",
      "(epochs, train rmse, test rmse)=(150,404.76,457.79)\n",
      "(epochs, train rmse, test rmse)=(200,401.11,459.83)\n",
      "(epochs, train rmse, test rmse)=(250,395.93,461.24)\n",
      "(epochs, train rmse, test rmse)=(300,391.21,448.94)\n",
      "(epochs, train rmse, test rmse)=(350,392.21,456.9)\n"
     ]
    }
   ],
   "source": [
    "#18, 18\n",
    "for i in range(1, 8):\n",
    "    full_lasso_selected_NN_model = build_full_NN(14, 18, 18)\n",
    "    full_lasso_selected_history = full_lasso_selected_NN_model.fit(full_lasso_selected_X_train, y_train, validation_data=(full_lasso_selected_X_test, y_test), batch_size = 10, epochs = i*50, verbose = 0)\n",
    "    '''\n",
    "    plt.figure(figsize=(10,4))\n",
    "    plt.subplot(1,2,1)\n",
    "    plt.plot(full_lasso_selected_history.history[\"loss\"], label=\"training\", color=\"blue\", linestyle=\"dashed\")\n",
    "    plt.plot(full_lasso_selected_history.history[\"val_loss\"], label=\"test\", color=\"orange\")\n",
    "    plt.xlabel(\"Iteration\")\n",
    "    plt.ylabel(\"Loss\")\n",
    "    plt.legend()\n",
    "    plt.show()\n",
    "    '''\n",
    "    train_rms = mean_squared_error(y_train, full_lasso_selected_NN_model.predict(full_lasso_selected_X_train, verbose=0), squared=False)\n",
    "    test_rms = mean_squared_error(y_test, full_lasso_selected_NN_model.predict(full_lasso_selected_X_test, verbose=0), squared=False)\n",
    "    print(f\"(epochs, train rmse, test rmse)=({i*50},{round(train_rms, 2)},{round(test_rms, 2)})\")"
   ]
  },
  {
   "cell_type": "code",
   "execution_count": 89,
   "metadata": {},
   "outputs": [
    {
     "name": "stdout",
     "output_type": "stream",
     "text": [
      "(epochs, train rmse, test rmse)=(50,431.05,488.92)\n",
      "(epochs, train rmse, test rmse)=(100,409.87,466.44)\n",
      "(epochs, train rmse, test rmse)=(150,413.88,459.7)\n",
      "(epochs, train rmse, test rmse)=(200,397.91,465.32)\n",
      "(epochs, train rmse, test rmse)=(250,392.16,462.9)\n",
      "(epochs, train rmse, test rmse)=(300,388.72,459.96)\n",
      "(epochs, train rmse, test rmse)=(350,386.77,458.16)\n"
     ]
    }
   ],
   "source": [
    "#26, 16\n",
    "for i in range(1, 8):\n",
    "    full_lasso_selected_NN_model = build_full_NN(14, 26, 16)\n",
    "    full_lasso_selected_history = full_lasso_selected_NN_model.fit(full_lasso_selected_X_train, y_train, validation_data=(full_lasso_selected_X_test, y_test), batch_size = 10, epochs = i*50, verbose = 0)\n",
    "    '''\n",
    "    plt.figure(figsize=(10,4))\n",
    "    plt.subplot(1,2,1)\n",
    "    plt.plot(full_lasso_selected_history.history[\"loss\"], label=\"training\", color=\"blue\", linestyle=\"dashed\")\n",
    "    plt.plot(full_lasso_selected_history.history[\"val_loss\"], label=\"test\", color=\"orange\")\n",
    "    plt.xlabel(\"Iteration\")\n",
    "    plt.ylabel(\"Loss\")\n",
    "    plt.legend()\n",
    "    plt.show()\n",
    "    '''\n",
    "    train_rms = mean_squared_error(y_train, full_lasso_selected_NN_model.predict(full_lasso_selected_X_train, verbose=0), squared=False)\n",
    "    test_rms = mean_squared_error(y_test, full_lasso_selected_NN_model.predict(full_lasso_selected_X_test, verbose=0), squared=False)\n",
    "    print(f\"(epochs, train rmse, test rmse)=({i*50},{round(train_rms, 2)},{round(test_rms, 2)})\")"
   ]
  },
  {
   "cell_type": "markdown",
   "metadata": {},
   "source": [
    "tested up to 350 epochs, (26, 16) and (18, 18) are not as good as (30, 20)."
   ]
  }
 ],
 "metadata": {
  "kernelspec": {
   "display_name": "base",
   "language": "python",
   "name": "python3"
  },
  "language_info": {
   "codemirror_mode": {
    "name": "ipython",
    "version": 3
   },
   "file_extension": ".py",
   "mimetype": "text/x-python",
   "name": "python",
   "nbconvert_exporter": "python",
   "pygments_lexer": "ipython3",
   "version": "3.9.12"
  },
  "orig_nbformat": 4
 },
 "nbformat": 4,
 "nbformat_minor": 2
}
