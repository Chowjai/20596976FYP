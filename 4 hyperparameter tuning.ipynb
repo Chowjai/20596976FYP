{
 "cells": [
  {
   "attachments": {},
   "cell_type": "markdown",
   "metadata": {},
   "source": [
    "Up to now, \"lasso-selected features with PCA preprocessing\" is the best performing model. \n",
    "hyperparameter tuning (e.g. earlystop, dropout, learning rate, optimization algorithm) is carried to refine the final model."
   ]
  },
  {
   "cell_type": "code",
   "execution_count": 16,
   "metadata": {},
   "outputs": [],
   "source": [
    "#import libraries.\n",
    "import numpy as np\n",
    "import pandas as pd\n",
    "import seaborn as sns\n",
    "import matplotlib.pyplot as plt\n",
    "%matplotlib inline\n",
    "\n",
    "#importing GBM-TP dataset\n",
    "df= pd.read_csv(\"GBM features.csv\")# header=None, skiprows=1)\n",
    "#df = df.rename(columns=df.iloc[0]).drop(df.index[0])\n",
    "\n",
    "#dropping last 7 rows\n",
    "df = df[:-7]\n",
    "\n",
    "col_list = list()\n",
    "for col in df.columns:\n",
    "    col_list.append(col)\n",
    "\n",
    "CLIs_col_list = col_list[0:13]\n",
    "CLIs_col_list\n",
    "\n",
    "CLIs_df = df.filter(CLIs_col_list, axis=1)\n",
    "\n",
    "#Processed features:\n",
    "key = ['tcga_participant_barcode']\n",
    "\n",
    "numerical_CLIs_list = [\n",
    "    'CLI_years_to_birth', #age\n",
    "    'CLI_days_to_death',  #changed to Overall_Survival\n",
    "    'CLI_date_of_initial_pathologic_diagnosis', #seemes useless, unless we want to generalise that \"technological advancement prolongs life\"?\n",
    "    'CLI_karnofsky_performance_score' #range from 0 to 100. A higher score means the patient is better able to carry out daily activities.\n",
    "]\n",
    "\n",
    "categorical_CLIs_list = [\n",
    "    'CLI_gender',\n",
    "    'CLI_radiation_therapy',    #better convert yes/no to 0/1\n",
    "    'CLI_histological_type',    #3 forms, ['untreated primary (de novo) gbm' 'treated primary gbm', 'glioblastoma multiforme (gbm)']\n",
    "    'CLI_race',             #4 forms, ['white' 'black or african american' nan 'asian']. \n",
    "    'CLI_ethnicity'         #3 forms, [nan 'hispanic or latino' 'not hispanic or latino'].\n",
    "]\n",
    "\n",
    "#Modify df according to processed features:\n",
    "processed_CLIs_df = CLIs_df.filter(key + numerical_CLIs_list + categorical_CLIs_list, axis=1)\n",
    "processed_CLIs_df = processed_CLIs_df[processed_CLIs_df['CLI_days_to_death'].notnull()]\n",
    "processed_CLIs_df.rename(columns={'CLI_days_to_death': 'Overall_Survival'}, inplace=True)\n",
    "processed_CLIs_df\n",
    "\n",
    "#one-hot encoding\n",
    "#for columns which null values exist(all columns except gender), drop_first=false since the categories are not collectively exhausive\n",
    "# -->0 in all categories implies NaN\n",
    "\n",
    "genderDummy = pd.get_dummies(processed_CLIs_df['CLI_gender'],drop_first=True,prefix='CLI_gender')\n",
    "radiationDummy = pd.get_dummies(processed_CLIs_df['CLI_radiation_therapy'],drop_first=False,prefix='CLI_radiation_therapy')\n",
    "histologicalDummy = pd.get_dummies(processed_CLIs_df['CLI_histological_type'],drop_first=False,prefix='CLI_histological_type')\n",
    "raceDummy = pd.get_dummies(processed_CLIs_df['CLI_race'],drop_first=False,prefix='CLI_race')\n",
    "ethnicityDummy = pd.get_dummies(processed_CLIs_df['CLI_ethnicity'],drop_first=False,prefix='CLI_ethnicity')\n",
    "\n",
    "processed_CLIs_df = processed_CLIs_df.drop(columns=['CLI_gender','CLI_radiation_therapy','CLI_histological_type','CLI_race','CLI_ethnicity'])\n",
    "processed_CLIs_df = pd.concat([processed_CLIs_df,genderDummy,radiationDummy,histologicalDummy,raceDummy,ethnicityDummy],axis=1,sort=True)\n",
    "\n",
    "#replace NaN by median CLI_karnofsky_performance_score(80)\n",
    "processed_CLIs_df['CLI_karnofsky_performance_score'].median()\n",
    "\n",
    "#replace NaN by median CLI_karnofsky_performance_score(80)\n",
    "processed_CLIs_df['CLI_karnofsky_performance_score'].fillna(processed_CLIs_df['CLI_karnofsky_performance_score'].median(), inplace=True)\n",
    "\n",
    "# define the datafram for feature and target\n",
    "X = processed_CLIs_df.drop(['tcga_participant_barcode', 'Overall_Survival'], axis=1)\n",
    "y = processed_CLIs_df[['Overall_Survival']]\n",
    "\n"
   ]
  },
  {
   "attachments": {},
   "cell_type": "markdown",
   "metadata": {},
   "source": [
    "Combining genomic(PCA)\n"
   ]
  },
  {
   "cell_type": "code",
   "execution_count": 30,
   "metadata": {},
   "outputs": [
    {
     "name": "stderr",
     "output_type": "stream",
     "text": [
      "c:\\Users\\Public\\Anaconda\\lib\\site-packages\\sklearn\\utils\\validation.py:1688: FutureWarning: Feature names only support names that are all strings. Got feature names with dtypes: ['int', 'str']. An error will be raised in 1.2.\n",
      "  warnings.warn(\n",
      "c:\\Users\\Public\\Anaconda\\lib\\site-packages\\sklearn\\utils\\validation.py:1688: FutureWarning: Feature names only support names that are all strings. Got feature names with dtypes: ['int', 'str']. An error will be raised in 1.2.\n",
      "  warnings.warn(\n",
      "c:\\Users\\Public\\Anaconda\\lib\\site-packages\\sklearn\\utils\\validation.py:1688: FutureWarning: Feature names only support names that are all strings. Got feature names with dtypes: ['int', 'str']. An error will be raised in 1.2.\n",
      "  warnings.warn(\n",
      "c:\\Users\\Public\\Anaconda\\lib\\site-packages\\sklearn\\utils\\validation.py:1688: FutureWarning: Feature names only support names that are all strings. Got feature names with dtypes: ['int', 'str']. An error will be raised in 1.2.\n",
      "  warnings.warn(\n",
      "c:\\Users\\Public\\Anaconda\\lib\\site-packages\\sklearn\\utils\\validation.py:1688: FutureWarning: Feature names only support names that are all strings. Got feature names with dtypes: ['int', 'str']. An error will be raised in 1.2.\n",
      "  warnings.warn(\n"
     ]
    }
   ],
   "source": [
    "from sklearn import preprocessing\n",
    "from sklearn.model_selection import train_test_split\n",
    "from sklearn.decomposition import PCA\n",
    "from sklearn.preprocessing import StandardScaler  # to standardize the features\n",
    "\n",
    "#getting genomic features\n",
    "genomic_df = df.drop(df.columns[range(1, 13)],axis=1,inplace=False)\n",
    "#fill null by 0\n",
    "genomic_df_0 = genomic_df.fillna(value=0, inplace = False)\n",
    "genomic_df_0.drop(['tcga_participant_barcode'], axis=1, inplace = True)\n",
    "\n",
    "\n",
    "# Feature Scaling\n",
    "from sklearn.preprocessing import StandardScaler\n",
    "import keras as K\n",
    "import tensorflow as tf\n",
    "from keras.layers import Dense, Activation, Dropout\n",
    "from keras.models import Sequential\n",
    "import matplotlib.pyplot as plt\n",
    "from sklearn.metrics import mean_squared_error\n",
    "from keras.callbacks import EarlyStopping\n",
    "import keras.optimizers\n",
    "\n",
    "#model\n",
    "def build_full_NN(num_input_layer_unit, num_first_layer_unit=17, num_second_layer_unit=8, \n",
    "                  dropout=0.0, learning_rate = 0.001, optimizer=\"Adam\"):\n",
    "    # Initialising the ANN\n",
    "    full_NN_model = Sequential()\n",
    "\n",
    "    # Adding the input layer and the first hidden layer\n",
    "    full_NN_model.add(Dense(num_first_layer_unit, activation = 'relu', input_dim = num_input_layer_unit))\n",
    "    #dropout\n",
    "    full_NN_model.add(Dropout(dropout))\n",
    "    # Adding the second hidden layer\n",
    "    full_NN_model.add(Dense(units = num_second_layer_unit, activation = 'relu'))\n",
    "    #dropout\n",
    "    full_NN_model.add(Dropout(dropout))\n",
    "\n",
    "    \"\"\"\n",
    "    # Adding the third hidden layer\n",
    "    full_NN_model.add(Dense(units = 4, activation = 'relu'))\n",
    "    \"\"\"\n",
    "\n",
    "    # Adding the output layer\n",
    "    full_NN_model.add(Dense(units = 1))\n",
    "\n",
    "    #optimizer\n",
    "    if optimizer == \"SGD\":\n",
    "        optimizer = keras.optimizers.SGD(learning_rate=learning_rate)\n",
    "    elif optimizer == \"RMSprop\":\n",
    "        optimizer = keras.optimizers.RMSprop(learning_rate=learning_rate)\n",
    "    elif optimizer == \"Adam\":\n",
    "        optimizer = keras.optimizers.Adam(learning_rate=learning_rate)\n",
    "    else:\n",
    "        raise NotImplementedError\n",
    "\n",
    "    # Compiling the ANN\n",
    "    full_NN_model.compile(optimizer = optimizer, loss = 'mean_squared_error')\n",
    "\n",
    "    return full_NN_model\n",
    "\n",
    "\n",
    "\n",
    "#selected genomic features\n",
    "lasso_genomic_df_0 = genomic_df_0[[\"SMG_mutsig2.0_SFT2D1_cosmic\",\"Amp_8q24.21 \",\"Del_1p36.32 \",\"Del_10p11.23\",\"CN_1p_Amp\"]]\n",
    "y = processed_CLIs_df[['Overall_Survival']]\n",
    "\n",
    "#PCA\n",
    "# apply PCA to reduce the dimensionality of the data(5->3)\n",
    "scalar = StandardScaler()\n",
    "lasso_genomic_df_0_sc = pd.DataFrame(scalar.fit_transform(lasso_genomic_df_0)) #scaling the data\n",
    "pca = PCA(n_components = 3)\n",
    "pca.fit(lasso_genomic_df_0_sc)\n",
    "PCA_genomic_df_0 = pca.transform(lasso_genomic_df_0_sc)\n",
    "PCA_genomic_df_0 = pd.DataFrame(PCA_genomic_df_0,columns=[\"PC\"+str(i) for i in range (1, 4)])\n",
    "\n",
    "PCA_lasso_genomic_X = pd.DataFrame(np.column_stack((genomic_df['tcga_participant_barcode'].values, PCA_genomic_df_0)))\n",
    "PCA_lasso_genomic_X = PCA_lasso_genomic_X.rename(columns={0: 'tcga_participant_barcode'})\n",
    "\n",
    "\n",
    "#merge CLI and Genomic\n",
    "PCA_lasso_full_X = pd.merge(processed_CLIs_df, PCA_lasso_genomic_X, on='tcga_participant_barcode', how='inner')\n",
    "PCA_lasso_full_X.drop(['tcga_participant_barcode', 'Overall_Survival'], axis=1, inplace = True)\n",
    "\n",
    "#normalization\n",
    "zscore_scaler = preprocessing.StandardScaler().fit(PCA_lasso_full_X)\n",
    "PCA_lasso_full_X = pd.DataFrame(zscore_scaler.transform(PCA_lasso_full_X), columns = PCA_lasso_full_X.columns)\n",
    "\n",
    "y = processed_CLIs_df[['Overall_Survival']]\n",
    "PCA_lasso_full_X_train, PCA_lasso_full_X_test, y_train, y_test = train_test_split(PCA_lasso_full_X, y, test_size=0.2,random_state =42)\n",
    "#NN\n",
    "sc = StandardScaler()\n",
    "PCA_lasso_full_X_train = sc.fit_transform(PCA_lasso_full_X_train)\n",
    "PCA_lasso_full_X_test = sc.transform(PCA_lasso_full_X_test)\n",
    "\n",
    "\n",
    "\n",
    "\n"
   ]
  },
  {
   "cell_type": "code",
   "execution_count": 3,
   "metadata": {},
   "outputs": [
    {
     "data": {
      "image/png": "[encoded data removed]",
      "text/plain": [
       "<Figure size 720x288 with 1 Axes>"
      ]
     },
     "metadata": {
      "needs_background": "light"
     },
     "output_type": "display_data"
    },
    {
     "name": "stdout",
     "output_type": "stream",
     "text": [
      "(train rmse, test rmse)=(371.25,431.76)\n"
     ]
    }
   ],
   "source": [
    "#Current Best model without tuning\n",
    "''' Plot loss-iteration for (32, 24) '''\n",
    "PCA_full_lasso_NN_model = build_full_NN(17,32, 24)\n",
    "early_stop = EarlyStopping(monitor='val_loss', patience=100)\n",
    "PCA_full_lasso_history = PCA_full_lasso_NN_model.fit(PCA_lasso_full_X_train, y_train, validation_data=(PCA_lasso_full_X_test, y_test), batch_size = 10, epochs = 350, verbose = 0, callbacks=[early_stop])\n",
    "plt.figure(figsize=(10,4))\n",
    "plt.subplot(1,2,1)\n",
    "plt.plot(PCA_full_lasso_history.history[\"loss\"], label=\"training\", color=\"blue\", linestyle=\"dashed\")\n",
    "plt.plot(PCA_full_lasso_history.history[\"val_loss\"], label=\"test\", color=\"orange\")\n",
    "plt.xlabel(\"Iteration\")\n",
    "plt.ylabel(\"Loss\")\n",
    "plt.legend()\n",
    "\n",
    "plt.show()\n",
    "train_rms = mean_squared_error(y_train, PCA_full_lasso_NN_model.predict(PCA_lasso_full_X_train, verbose=0), squared=False)\n",
    "test_rms = mean_squared_error(y_test, PCA_full_lasso_NN_model.predict(PCA_lasso_full_X_test, verbose=0), squared=False)\n",
    "print(f\"(train rmse, test rmse)=({round(train_rms, 2)},{round(test_rms, 2)})\")"
   ]
  },
  {
   "attachments": {},
   "cell_type": "markdown",
   "metadata": {},
   "source": [
    "Current Benchmark/Best: 431.76"
   ]
  },
  {
   "cell_type": "code",
   "execution_count": 29,
   "metadata": {},
   "outputs": [
    {
     "data": {
      "text/plain": [
       "Overall_Survival    0\n",
       "dtype: int64"
      ]
     },
     "execution_count": 29,
     "metadata": {},
     "output_type": "execute_result"
    }
   ],
   "source": [
    "np.isnan(y_train).sum()\n"
   ]
  },
  {
   "cell_type": "code",
   "execution_count": 32,
   "metadata": {},
   "outputs": [
    {
     "name": "stdout",
     "output_type": "stream",
     "text": [
      "(learning_rate, optimizer, dropout_rate, train rmse, test rmse)=(0.0001,RMSprop,0.0,442.97,475.91)\n",
      "(learning_rate, optimizer, dropout_rate, train rmse, test rmse)=(0.0001,RMSprop,0.1,451.63,485.28)\n",
      "(learning_rate, optimizer, dropout_rate, train rmse, test rmse)=(0.0001,RMSprop,0.2,463.54,481.7)\n",
      "(learning_rate, optimizer, dropout_rate, train rmse, test rmse)=(0.0001,RMSprop,0.3,463.66,477.38)\n",
      "(learning_rate, optimizer, dropout_rate, train rmse, test rmse)=(0.0001,RMSprop,0.4,495.69,498.1)\n",
      "(learning_rate, optimizer, dropout_rate, train rmse, test rmse)=(0.0001,Adam,0.0,436.89,482.57)\n",
      "(learning_rate, optimizer, dropout_rate, train rmse, test rmse)=(0.0001,Adam,0.1,438.45,481.25)\n",
      "(learning_rate, optimizer, dropout_rate, train rmse, test rmse)=(0.0001,Adam,0.2,444.24,491.36)\n",
      "(learning_rate, optimizer, dropout_rate, train rmse, test rmse)=(0.0001,Adam,0.3,450.29,472.98)\n",
      "(learning_rate, optimizer, dropout_rate, train rmse, test rmse)=(0.0001,Adam,0.4,452.57,482.26)\n",
      "(learning_rate, optimizer, dropout_rate, train rmse, test rmse)=(0.001,RMSprop,0.0,388.53,429.0)\n",
      "(learning_rate, optimizer, dropout_rate, train rmse, test rmse)=(0.001,RMSprop,0.1,405.35,452.18)\n",
      "(learning_rate, optimizer, dropout_rate, train rmse, test rmse)=(0.001,RMSprop,0.2,412.23,444.87)\n",
      "(learning_rate, optimizer, dropout_rate, train rmse, test rmse)=(0.001,RMSprop,0.3,410.21,447.57)\n",
      "(learning_rate, optimizer, dropout_rate, train rmse, test rmse)=(0.001,RMSprop,0.4,411.59,452.9)\n",
      "(learning_rate, optimizer, dropout_rate, train rmse, test rmse)=(0.001,Adam,0.0,391.04,443.41)\n",
      "(learning_rate, optimizer, dropout_rate, train rmse, test rmse)=(0.001,Adam,0.1,395.85,443.15)\n",
      "(learning_rate, optimizer, dropout_rate, train rmse, test rmse)=(0.001,Adam,0.2,422.76,470.8)\n",
      "(learning_rate, optimizer, dropout_rate, train rmse, test rmse)=(0.001,Adam,0.3,418.23,470.7)\n",
      "(learning_rate, optimizer, dropout_rate, train rmse, test rmse)=(0.001,Adam,0.4,420.96,469.45)\n",
      "(learning_rate, optimizer, dropout_rate, train rmse, test rmse)=(0.01,RMSprop,0.0,368.12,424.35)\n",
      "(learning_rate, optimizer, dropout_rate, train rmse, test rmse)=(0.01,RMSprop,0.1,396.53,446.09)\n",
      "(learning_rate, optimizer, dropout_rate, train rmse, test rmse)=(0.01,RMSprop,0.2,385.66,432.79)\n",
      "(learning_rate, optimizer, dropout_rate, train rmse, test rmse)=(0.01,RMSprop,0.3,400.86,444.67)\n",
      "(learning_rate, optimizer, dropout_rate, train rmse, test rmse)=(0.01,RMSprop,0.4,394.1,422.0)\n",
      "(learning_rate, optimizer, dropout_rate, train rmse, test rmse)=(0.01,Adam,0.0,364.18,417.67)\n",
      "(learning_rate, optimizer, dropout_rate, train rmse, test rmse)=(0.01,Adam,0.1,385.3,436.26)\n",
      "(learning_rate, optimizer, dropout_rate, train rmse, test rmse)=(0.01,Adam,0.2,379.4,427.85)\n",
      "(learning_rate, optimizer, dropout_rate, train rmse, test rmse)=(0.01,Adam,0.3,381.58,435.13)\n",
      "(learning_rate, optimizer, dropout_rate, train rmse, test rmse)=(0.01,Adam,0.4,405.13,444.21)\n",
      "(learning_rate, optimizer, dropout_rate, train rmse, test rmse)=(0.1,RMSprop,0.0,391.87,529.98)\n",
      "(learning_rate, optimizer, dropout_rate, train rmse, test rmse)=(0.1,RMSprop,0.1,351.93,425.62)\n",
      "(learning_rate, optimizer, dropout_rate, train rmse, test rmse)=(0.1,RMSprop,0.2,381.13,483.97)\n",
      "(learning_rate, optimizer, dropout_rate, train rmse, test rmse)=(0.1,RMSprop,0.3,410.15,439.71)\n",
      "(learning_rate, optimizer, dropout_rate, train rmse, test rmse)=(0.1,RMSprop,0.4,380.21,454.37)\n",
      "(learning_rate, optimizer, dropout_rate, train rmse, test rmse)=(0.1,Adam,0.0,360.66,454.07)\n",
      "(learning_rate, optimizer, dropout_rate, train rmse, test rmse)=(0.1,Adam,0.1,378.69,457.51)\n",
      "(learning_rate, optimizer, dropout_rate, train rmse, test rmse)=(0.1,Adam,0.2,391.63,458.62)\n",
      "(learning_rate, optimizer, dropout_rate, train rmse, test rmse)=(0.1,Adam,0.3,382.01,425.47)\n",
      "(learning_rate, optimizer, dropout_rate, train rmse, test rmse)=(0.1,Adam,0.4,397.5,432.1)\n"
     ]
    }
   ],
   "source": [
    "#implement grid search for hyperparameter tuning\n",
    "#tuning earlystop, dropout, learning rate, optimization algorithm(\"SGD\", \"RMSprop\", \"Adam\")\n",
    "\n",
    "rmses = list()\n",
    "\n",
    "learning_rates = [0.0001, 0.001, 0.01, 0.1]\n",
    "optimizers = [\"RMSprop\", \"Adam\"]\n",
    "dropout_rates = [0.0, 0.1, 0.2, 0.3, 0.4]\n",
    "\n",
    "\n",
    "for learning_rate in learning_rates:    #4*2*5=40 iterations\n",
    "    for optimizer in optimizers:\n",
    "            for dropout_rate in dropout_rates:\n",
    "                ''' Plot loss-iteration for (32, 24) '''\n",
    "                PCA_full_lasso_NN_model = build_full_NN(17,32, 24, dropout_rate,\n",
    "                                                        learning_rate, optimizer)\n",
    "                early_stop = EarlyStopping(monitor='val_loss', patience=10)\n",
    "                PCA_full_lasso_history = PCA_full_lasso_NN_model.fit(PCA_lasso_full_X_train, y_train, validation_data=(PCA_lasso_full_X_test, y_test), batch_size = 10, epochs = 350, verbose = 0, callbacks=[early_stop])\n",
    "                train_rms = mean_squared_error(y_train, PCA_full_lasso_NN_model.predict(PCA_lasso_full_X_train, verbose=0), squared=False)\n",
    "                test_rms = mean_squared_error(y_test, PCA_full_lasso_NN_model.predict(PCA_lasso_full_X_test, verbose=0), squared=False)\n",
    "                print(f\"(learning_rate, optimizer, dropout_rate, train rmse, test rmse)=({learning_rate},{optimizer},{dropout_rate},{round(train_rms, 2)},{round(test_rms, 2)})\")\n",
    "                rmses.append((learning_rate,optimizer,dropout_rate,train_rms,test_rms))\n"
   ]
  },
  {
   "cell_type": "code",
   "execution_count": 34,
   "metadata": {},
   "outputs": [
    {
     "data": {
      "text/plain": [
       "(0.01, 'Adam', 0.0, 364.1838853247228, 417.67380723304973)"
      ]
     },
     "execution_count": 34,
     "metadata": {},
     "output_type": "execute_result"
    }
   ],
   "source": [
    "min(rmses, key = lambda t: t[4])"
   ]
  },
  {
   "cell_type": "code",
   "execution_count": 38,
   "metadata": {},
   "outputs": [
    {
     "data": {
      "image/png": "[encoded data removed]",
      "text/plain": [
       "<Figure size 720x288 with 1 Axes>"
      ]
     },
     "metadata": {
      "needs_background": "light"
     },
     "output_type": "display_data"
    },
    {
     "name": "stdout",
     "output_type": "stream",
     "text": [
      "(train rmse, test rmse)=(361.18,437.53)\n"
     ]
    }
   ],
   "source": [
    "#Current Best model without tuning\n",
    "''' Plot loss-iteration for (32, 24) '''\n",
    "PCA_full_lasso_NN_model = build_full_NN(17,32, 24,0.0, 0.01, \"Adam\")\n",
    "early_stop = EarlyStopping(monitor='val_loss', patience=10)\n",
    "PCA_full_lasso_history = PCA_full_lasso_NN_model.fit(PCA_lasso_full_X_train, y_train, validation_data=(PCA_lasso_full_X_test, y_test), batch_size = 10, epochs = 350, verbose = 0, callbacks=[early_stop])\n",
    "plt.figure(figsize=(10,4))\n",
    "plt.subplot(1,2,1)\n",
    "plt.plot(PCA_full_lasso_history.history[\"loss\"], label=\"training\", color=\"blue\", linestyle=\"dashed\")\n",
    "plt.plot(PCA_full_lasso_history.history[\"val_loss\"], label=\"test\", color=\"orange\")\n",
    "plt.xlabel(\"Iteration\")\n",
    "plt.ylabel(\"Loss\")\n",
    "plt.legend()\n",
    "\n",
    "plt.show()\n",
    "train_rms = mean_squared_error(y_train, PCA_full_lasso_NN_model.predict(PCA_lasso_full_X_train, verbose=0), squared=False)\n",
    "test_rms = mean_squared_error(y_test, PCA_full_lasso_NN_model.predict(PCA_lasso_full_X_test, verbose=0), squared=False)\n",
    "print(f\"(train rmse, test rmse)=({round(train_rms, 2)},{round(test_rms, 2)})\")"
   ]
  },
  {
   "attachments": {},
   "cell_type": "markdown",
   "metadata": {},
   "source": [
    "further explore neighbours of (0.01, 'Adam', 0.0, 364.1838853247228, 417.67380723304973)"
   ]
  },
  {
   "cell_type": "code",
   "execution_count": 39,
   "metadata": {},
   "outputs": [
    {
     "name": "stdout",
     "output_type": "stream",
     "text": [
      "(learning_rate, optimizer, dropout_rate, train rmse, test rmse)=(0.005,Adam,0.0,361.6,423.56)\n",
      "(learning_rate, optimizer, dropout_rate, train rmse, test rmse)=(0.005,Adam,0.02,367.69,429.94)\n",
      "(learning_rate, optimizer, dropout_rate, train rmse, test rmse)=(0.005,Adam,0.04,380.17,443.97)\n",
      "(learning_rate, optimizer, dropout_rate, train rmse, test rmse)=(0.005,Adam,0.06,369.76,432.14)\n",
      "(learning_rate, optimizer, dropout_rate, train rmse, test rmse)=(0.005,Adam,0.08,365.8,427.53)\n",
      "(learning_rate, optimizer, dropout_rate, train rmse, test rmse)=(0.005,Adam,0.1,373.58,427.71)\n",
      "(learning_rate, optimizer, dropout_rate, train rmse, test rmse)=(0.01,Adam,0.0,358.8,441.44)\n",
      "(learning_rate, optimizer, dropout_rate, train rmse, test rmse)=(0.01,Adam,0.02,359.63,423.85)\n",
      "(learning_rate, optimizer, dropout_rate, train rmse, test rmse)=(0.01,Adam,0.04,384.76,441.41)\n",
      "(learning_rate, optimizer, dropout_rate, train rmse, test rmse)=(0.01,Adam,0.06,361.56,423.79)\n",
      "(learning_rate, optimizer, dropout_rate, train rmse, test rmse)=(0.01,Adam,0.08,376.86,432.67)\n",
      "(learning_rate, optimizer, dropout_rate, train rmse, test rmse)=(0.01,Adam,0.1,377.13,424.69)\n",
      "(learning_rate, optimizer, dropout_rate, train rmse, test rmse)=(0.05,Adam,0.0,415.23,459.99)\n",
      "(learning_rate, optimizer, dropout_rate, train rmse, test rmse)=(0.05,Adam,0.02,356.78,414.25)\n",
      "(learning_rate, optimizer, dropout_rate, train rmse, test rmse)=(0.05,Adam,0.04,375.78,423.97)\n",
      "(learning_rate, optimizer, dropout_rate, train rmse, test rmse)=(0.05,Adam,0.06,403.71,452.27)\n",
      "(learning_rate, optimizer, dropout_rate, train rmse, test rmse)=(0.05,Adam,0.08,371.94,415.28)\n",
      "(learning_rate, optimizer, dropout_rate, train rmse, test rmse)=(0.05,Adam,0.1,388.54,434.56)\n"
     ]
    }
   ],
   "source": [
    "#implement grid search for hyperparameter tuning\n",
    "#tuning earlystop, dropout, learning rate, optimization algorithm(\"SGD\", \"RMSprop\", \"Adam\")\n",
    "\n",
    "rmses = list()\n",
    "\n",
    "learning_rates = [0.005, 0.01, 0.05]\n",
    "optimizers = [\"Adam\"]\n",
    "dropout_rates = [0.0, 0.02, 0.04, 0.06, 0.08, 0.1]\n",
    "\n",
    "\n",
    "for learning_rate in learning_rates:    #4*2*5=40 iterations\n",
    "    for optimizer in optimizers:\n",
    "            for dropout_rate in dropout_rates:\n",
    "                ''' Plot loss-iteration for (32, 24) '''\n",
    "                PCA_full_lasso_NN_model = build_full_NN(17,32, 24, dropout_rate,\n",
    "                                                        learning_rate, optimizer)\n",
    "                early_stop = EarlyStopping(monitor='val_loss', patience=10)\n",
    "                PCA_full_lasso_history = PCA_full_lasso_NN_model.fit(PCA_lasso_full_X_train, y_train, validation_data=(PCA_lasso_full_X_test, y_test), batch_size = 10, epochs = 350, verbose = 0, callbacks=[early_stop])\n",
    "                train_rms = mean_squared_error(y_train, PCA_full_lasso_NN_model.predict(PCA_lasso_full_X_train, verbose=0), squared=False)\n",
    "                test_rms = mean_squared_error(y_test, PCA_full_lasso_NN_model.predict(PCA_lasso_full_X_test, verbose=0), squared=False)\n",
    "                print(f\"(learning_rate, optimizer, dropout_rate, train rmse, test rmse)=({learning_rate},{optimizer},{dropout_rate},{round(train_rms, 2)},{round(test_rms, 2)})\")\n",
    "                rmses.append((learning_rate,optimizer,dropout_rate,train_rms,test_rms))\n"
   ]
  },
  {
   "cell_type": "code",
   "execution_count": 40,
   "metadata": {},
   "outputs": [
    {
     "data": {
      "text/plain": [
       "(0.05, 'Adam', 0.02, 356.78460208731127, 414.2507530505114)"
      ]
     },
     "execution_count": 40,
     "metadata": {},
     "output_type": "execute_result"
    }
   ],
   "source": [
    "min(rmses, key = lambda t: t[4])"
   ]
  },
  {
   "attachments": {},
   "cell_type": "markdown",
   "metadata": {},
   "source": [
    "Finally, tune batch size for this optimal model"
   ]
  },
  {
   "cell_type": "code",
   "execution_count": 47,
   "metadata": {},
   "outputs": [
    {
     "name": "stdout",
     "output_type": "stream",
     "text": [
      "(batch_size, train rmse, test rmse)=(10,371.36,421.59)\n",
      "(batch_size, train rmse, test rmse)=(16,390.81,425.94)\n",
      "(batch_size, train rmse, test rmse)=(32,370.78,414.71)\n",
      "(batch_size, train rmse, test rmse)=(64,374.78,428.17)\n",
      "(batch_size, train rmse, test rmse)=(128,405.14,452.78)\n",
      "(batch_size, train rmse, test rmse)=(256,381.26,431.25)\n"
     ]
    }
   ],
   "source": [
    "#implement grid search for hyperparameter tuning\n",
    "#tuning earlystop, dropout, learning rate, optimization algorithm(\"SGD\", \"RMSprop\", \"Adam\")\n",
    "\n",
    "rmses = list()\n",
    "\n",
    "batch_sizes = [10, 16, 32, 64, 128, 256]\n",
    "\n",
    "for batch_size in batch_sizes:  \n",
    "                ''' Plot loss-iteration for (32, 24) '''\n",
    "                PCA_full_lasso_NN_model = build_full_NN(17,32, 24, 0.02,\n",
    "                                                        0.05, \"Adam\")\n",
    "                early_stop = EarlyStopping(monitor='val_loss', patience=10)\n",
    "                PCA_full_lasso_history = PCA_full_lasso_NN_model.fit(PCA_lasso_full_X_train, y_train, validation_data=(PCA_lasso_full_X_test, y_test), batch_size = batch_size, epochs = 350, verbose = 0, callbacks=[early_stop])\n",
    "                train_rms = mean_squared_error(y_train, PCA_full_lasso_NN_model.predict(PCA_lasso_full_X_train, verbose=0), squared=False)\n",
    "                test_rms = mean_squared_error(y_test, PCA_full_lasso_NN_model.predict(PCA_lasso_full_X_test, verbose=0), squared=False)\n",
    "                print(f\"(batch_size, train rmse, test rmse)=({batch_size},{round(train_rms, 2)},{round(test_rms, 2)})\")\n",
    "                rmses.append((batch_size,train_rms,test_rms))\n"
   ]
  },
  {
   "cell_type": "code",
   "execution_count": 48,
   "metadata": {},
   "outputs": [
    {
     "data": {
      "text/plain": [
       "(32, 370.7755611228907, 414.7067416711322)"
      ]
     },
     "execution_count": 48,
     "metadata": {},
     "output_type": "execute_result"
    }
   ],
   "source": [
    "min(rmses, key = lambda t: t[2])"
   ]
  },
  {
   "attachments": {},
   "cell_type": "markdown",
   "metadata": {},
   "source": [
    "Thus optimal batch size is 32.\n",
    "\n",
    "List of hyperparameters:\n",
    "num_hidden_layers = 2\n",
    "first_layer_nodes = 32\n",
    "second_layer_nodes = 24\n",
    "dropout_rate = 0.02\n",
    "learning_rate = 0.05\n",
    "batch size = 32\n",
    "optimizer = \"Adam\"\n",
    "number_of_PCs = 3\n",
    "\n",
    "\n",
    "rmse=413"
   ]
  },
  {
   "cell_type": "code",
   "execution_count": 51,
   "metadata": {},
   "outputs": [
    {
     "data": {
      "image/png": "[encoded data removed]",
      "text/plain": [
       "<Figure size 720x288 with 1 Axes>"
      ]
     },
     "metadata": {
      "needs_background": "light"
     },
     "output_type": "display_data"
    },
    {
     "name": "stdout",
     "output_type": "stream",
     "text": [
      "(train rmse, test rmse)=(376.32,413.58)\n"
     ]
    }
   ],
   "source": [
    "#Current Best model \n",
    "''' Plot loss-iteration for (32, 24) '''\n",
    "PCA_full_lasso_NN_model = build_full_NN(17,32, 24,0.02, 0.05, \"Adam\")\n",
    "early_stop = EarlyStopping(monitor='val_loss', patience=10)\n",
    "PCA_full_lasso_history = PCA_full_lasso_NN_model.fit(PCA_lasso_full_X_train, y_train, validation_data=(PCA_lasso_full_X_test, y_test), batch_size = 32, epochs = 350, verbose = 0, callbacks=[early_stop])\n",
    "plt.figure(figsize=(10,4))\n",
    "plt.subplot(1,2,1)\n",
    "plt.plot(PCA_full_lasso_history.history[\"loss\"], label=\"training\", color=\"blue\", linestyle=\"dashed\")\n",
    "plt.plot(PCA_full_lasso_history.history[\"val_loss\"], label=\"test\", color=\"orange\")\n",
    "plt.xlabel(\"Iteration\")\n",
    "plt.ylabel(\"Loss\")\n",
    "plt.legend()\n",
    "\n",
    "plt.show()\n",
    "train_rms = mean_squared_error(y_train, PCA_full_lasso_NN_model.predict(PCA_lasso_full_X_train, verbose=0), squared=False)\n",
    "test_rms = mean_squared_error(y_test, PCA_full_lasso_NN_model.predict(PCA_lasso_full_X_test, verbose=0), squared=False)\n",
    "print(f\"(train rmse, test rmse)=({round(train_rms, 2)},{round(test_rms, 2)})\")"
   ]
  },
  {
   "cell_type": "code",
   "execution_count": 76,
   "metadata": {},
   "outputs": [
    {
     "data": {
      "image/png": "[encoded data removed]",
      "text/plain": [
       "<Figure size 720x288 with 1 Axes>"
      ]
     },
     "metadata": {
      "needs_background": "light"
     },
     "output_type": "display_data"
    },
    {
     "name": "stdout",
     "output_type": "stream",
     "text": [
      "(train rmse, test rmse)=(362.12,413.59)\n"
     ]
    }
   ],
   "source": [
    "from keras.callbacks import ModelCheckpoint\n",
    "#Saving the final model\n",
    "''' Plot loss-iteration for (32, 24) '''\n",
    "PCA_full_lasso_NN_model = build_full_NN(17,32, 24,0.02, 0.05, \"Adam\")\n",
    "early_stop = EarlyStopping(monitor='val_loss', patience=10)\n",
    "PCA_full_lasso_history = PCA_full_lasso_NN_model.fit(PCA_lasso_full_X_train, y_train, validation_data=(PCA_lasso_full_X_test, y_test), batch_size = 32, epochs = 350, verbose = 0, callbacks=[early_stop, ModelCheckpoint('models/model.h5')])\n",
    "plt.figure(figsize=(10,4))\n",
    "plt.subplot(1,2,1)\n",
    "plt.plot(PCA_full_lasso_history.history[\"loss\"], label=\"training\", color=\"blue\", linestyle=\"dashed\")\n",
    "plt.plot(PCA_full_lasso_history.history[\"val_loss\"], label=\"test\", color=\"orange\")\n",
    "plt.xlabel(\"Iteration\")\n",
    "plt.ylabel(\"Loss\")\n",
    "plt.legend()\n",
    "\n",
    "plt.show()\n",
    "train_rms = mean_squared_error(y_train, PCA_full_lasso_NN_model.predict(PCA_lasso_full_X_train, verbose=0), squared=False)\n",
    "test_rms = mean_squared_error(y_test, PCA_full_lasso_NN_model.predict(PCA_lasso_full_X_test, verbose=0), squared=False)\n",
    "print(f\"(train rmse, test rmse)=({round(train_rms, 2)},{round(test_rms, 2)})\")"
   ]
  }
 ],
 "metadata": {
  "kernelspec": {
   "display_name": "base",
   "language": "python",
   "name": "python3"
  },
  "language_info": {
   "codemirror_mode": {
    "name": "ipython",
    "version": 3
   },
   "file_extension": ".py",
   "mimetype": "text/x-python",
   "name": "python",
   "nbconvert_exporter": "python",
   "pygments_lexer": "ipython3",
   "version": "3.9.12"
  },
  "orig_nbformat": 4
 },
 "nbformat": 4,
 "nbformat_minor": 2
}
